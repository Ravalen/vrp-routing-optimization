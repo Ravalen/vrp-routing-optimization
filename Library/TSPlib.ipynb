{
  "cells": [
    {
      "cell_type": "markdown",
      "metadata": {
        "id": "WiM0D5yxA9ZR"
      },
      "source": [
        "Function definitions for nearest neighbor, savings, and 2-opt algorithms."
      ]
    },
    {
      "cell_type": "markdown",
      "metadata": {
        "id": "RuJfTxm-A9ZT"
      },
      "source": [
        "Function definitions for Nearest neighbor algorithm"
      ]
    },
    {
      "cell_type": "code",
      "execution_count": null,
      "metadata": {
        "id": "ObbGJUKVA9ZT"
      },
      "outputs": [],
      "source": [
        "def nearest_neighbor(nodes, origin, d):\n",
        "    '''\n",
        "    Constructs a TSP solution using the nearest neighbor algorithm, NNH,\n",
        "    for a given set of nodes, the associated pairwise distance matrix-d,\n",
        "    and the origin.\n",
        "    '''\n",
        "    # Tour should start at the origin\n",
        "    tour = [origin]\n",
        "\n",
        "    # Initialize the tour length\n",
        "    tour_length = 0\n",
        "\n",
        "    # If the origin is not in nodes, add it to nodes\n",
        "    if origin not in nodes:\n",
        "        nodes.append(origin)\n",
        "\n",
        "    # Nearest neighbor search until all nodes are visited\n",
        "    while len(tour) < len(nodes):\n",
        "        dist, next_node = min((d[tour[-1]][i], i) for i in nodes if i not in tour)\n",
        "        tour_length += dist\n",
        "        tour.append(next_node)\n",
        "        print('Added', next_node, 'to the tour!')\n",
        "\n",
        "    # Tour should end at the origin\n",
        "    tour_length += d[tour[-1]][origin]\n",
        "    tour.append(origin)\n",
        "\n",
        "    # Round the result to 2 decimals to avoid floating point representation errors\n",
        "    tour_length = round(tour_length, 2)\n",
        "\n",
        "    # Return the resulting tour and its length as a tuple\n",
        "    return tour, tour_length"
      ]
    },
    {
      "cell_type": "markdown",
      "metadata": {
        "id": "nVI7cYXjA9ZU"
      },
      "source": [
        "Function definitions for nearest Savings algorithm"
      ]
    },
    {
      "cell_type": "code",
      "execution_count": null,
      "metadata": {
        "id": "lE3FKbPXA9ZU"
      },
      "outputs": [],
      "source": [
        "def savings(nodes, origin, d):\n",
        "    '''\n",
        "    Constructs a TSP solution using the savings method for a given set/list of\n",
        "    nodes, their pairwise distances-d, and the origin.\n",
        "    '''\n",
        "    # Set of customer nodes (i.e. nodes other than the origin)\n",
        "    customers = {i for i in nodes if i != origin}\n",
        "\n",
        "    # Initialize out-and-back tours from the origin to every other node\n",
        "    tours = {(i,i): [origin, i, origin] for i in customers}\n",
        "\n",
        "    # Compute savings\n",
        "    savings = {(i, j): round(d[i][origin] + d[origin][j] - d[i][j], 2)\n",
        "               for i in customers for j in customers if j != i}\n",
        "\n",
        "    # Define a priority queue dictionary to get a pair of nodes (i,j) which yields\n",
        "    # the maximum savings\n",
        "    #pq = pqdict(savings, reverse = True)\n",
        "    sorted_savings = sorted(savings.items(), key=lambda item: item[1])\n",
        "    # Merge subtours until obtaining a TSP tour\n",
        "    while len(tours) > 1:\n",
        "        A = sorted_savings.pop()\n",
        "        i = A[0][0]\n",
        "        j = A[0][1]\n",
        "        print((i, j))\n",
        "        # Outer loop\n",
        "        break_outer = False\n",
        "        for t1 in tours:\n",
        "            for t2 in tours.keys()-{t1}:\n",
        "                if t1[1] == i and t2[0] == j:\n",
        "                    print('Merging', tours[t1], 'and', tours[t2])\n",
        "                    tours[(t1[0], t2[1])] = tours[t1][:-1] + tours[t2][1:]\n",
        "                    del tours[t1], tours[t2]\n",
        "                    print(tours)\n",
        "                    break_outer = True\n",
        "                    break\n",
        "            if break_outer:\n",
        "                break\n",
        "        else:\n",
        "            print('No merging opportunities can be found for', (i,j))\n",
        "\n",
        "    # Final tours dictionary (involves a single tour, which is the TSP tour)\n",
        "    print(tours)\n",
        "\n",
        "    # Compute tour length\n",
        "    tour_length = 0\n",
        "    for tour in tours.values():\n",
        "        for i in range(len(tour)-1):\n",
        "            tour_length += d[tour[i]][tour[i+1]]\n",
        "\n",
        "    # Round the result to 2 decimals to avoid floating point representation errors\n",
        "    tour_length = round(tour_length, 2)\n",
        "\n",
        "    # Return the resulting tour and its length as a tuple\n",
        "    return tour, tour_length\n"
      ]
    },
    {
      "cell_type": "markdown",
      "metadata": {
        "id": "dnVvYwbFA9ZU"
      },
      "source": [
        "Function definitions for 2-opt algorithm"
      ]
    },
    {
      "cell_type": "code",
      "execution_count": null,
      "metadata": {
        "id": "StZPpeULA9ZU"
      },
      "outputs": [],
      "source": [
        "def two_opt(tour, tour_length, d):\n",
        "    '''\n",
        "    Improves a given TSP solution using the 2-opt algorithm. Note: This function\n",
        "    applies 2opt correctly only when the distance matrix is symmetric. In case\n",
        "    of asymmetric distances, one needs to update the cost difference calculation\n",
        "    incurred by swapping.\n",
        "    '''\n",
        "    current_tour, current_tour_length = tour, tour_length\n",
        "    best_tour, best_tour_length = current_tour, current_tour_length\n",
        "    solution_improved = True\n",
        "\n",
        "    while solution_improved:\n",
        "        print()\n",
        "        print('Attempting to improve the tour', current_tour,\n",
        "              'with length', current_tour_length)\n",
        "        solution_improved = False\n",
        "\n",
        "        for i in range(1, len(current_tour)-2):\n",
        "            for j in range(i+1, len(current_tour)-1):\n",
        "                difference = round((d[current_tour[i-1]][current_tour[j]]\n",
        "                                  + d[current_tour[i]][current_tour[j+1]]\n",
        "                                  - d[current_tour[i-1]][current_tour[i]]\n",
        "                                  - d[current_tour[j]][current_tour[j+1]]), 2)\n",
        "\n",
        "                print('Cost difference due to swapping', current_tour[i], 'and',\n",
        "                      current_tour[j], 'is:', difference)\n",
        "\n",
        "                if current_tour_length + difference < best_tour_length:\n",
        "                    print('Found an improving move! Updating the best tour...')\n",
        "\n",
        "                    best_tour = current_tour[:i] + list(reversed(current_tour[i:j+1])) + current_tour[j+1:]\n",
        "                    best_tour_length = round(current_tour_length + difference, 2)\n",
        "\n",
        "                    print('Improved tour is:', best_tour, 'with length',\n",
        "                          best_tour_length)\n",
        "\n",
        "                    solution_improved = True\n",
        "\n",
        "        current_tour, current_tour_length = best_tour, best_tour_length\n",
        "\n",
        "    # Return the resulting tour and its length as a tuple\n",
        "    return best_tour, best_tour_length"
      ]
    },
    {
      "cell_type": "markdown",
      "metadata": {
        "id": "sYs-EvEaBDYg"
      },
      "source": [
        "Function for Relocate Algorithm"
      ]
    },
    {
      "cell_type": "code",
      "execution_count": null,
      "metadata": {
        "id": "kSEw14i0A-2m"
      },
      "outputs": [],
      "source": [
        "def relocate(route, depot, d):\n",
        "    best_route = route.copy()\n",
        "    best_cost = sum(d[route[i]][route[i+1]] for i in range(len(route)-1))\n",
        "    improved = True\n",
        "\n",
        "    while improved:\n",
        "        improved = False\n",
        "        for i in range(1, len(best_route) - 1):\n",
        "            for j in range(1, len(best_route) - 1):\n",
        "                if i == j:\n",
        "                    continue\n",
        "                new_route = best_route.copy()\n",
        "                node = new_route.pop(i)\n",
        "                new_route.insert(j, node)\n",
        "                new_cost = sum(d[new_route[k]][new_route[k+1]] for k in range(len(new_route)-1))\n",
        "                if new_cost < best_cost:\n",
        "                    best_route = new_route\n",
        "                    best_cost = new_cost\n",
        "                    improved = True\n",
        "\n",
        "    return best_route, best_cost"
      ]
    },
    {
      "cell_type": "code",
      "execution_count": null,
      "metadata": {},
      "outputs": [],
      "source": [
        "import networkx as nx\n",
        "from itertools import combinations\n",
        "import numpy as np\n",
        "\n",
        "def christofides(d):\n",
        "    \"\"\"\n",
        "    Christofides TSP approximation algorithm.\n",
        "    Input: d - distance matrix (NumPy array)\n",
        "    Output: a TSP tour visiting all nodes once and returning to start\n",
        "    \"\"\"\n",
        "    G = nx.Graph()\n",
        "    n = len(d)\n",
        "\n",
        "    # Step 1: Add all edges to complete graph\n",
        "    for i in range(n):\n",
        "        for j in range(i + 1, n):\n",
        "            G.add_edge(i, j, weight=d[i][j])\n",
        "\n",
        "    # Step 2: Compute MST\n",
        "    T = nx.minimum_spanning_tree(G)\n",
        "\n",
        "    # Step 3: Find odd-degree nodes in MST\n",
        "    odd_nodes = [v for v in T.nodes if T.degree[v] % 2 == 1]\n",
        "\n",
        "    # Step 4: Minimum weight perfect matching among odd nodes\n",
        "    M = nx.Graph()\n",
        "    for u, v in combinations(odd_nodes, 2):\n",
        "        M.add_edge(u, v, weight=d[u][v])\n",
        "    matching = nx.algorithms.matching.min_weight_matching(M)\n",
        "\n",
        "    # Step 5: Combine MST and Matching to form multigraph\n",
        "    multigraph = nx.MultiGraph()\n",
        "    multigraph.add_edges_from(T.edges(data=True))\n",
        "    multigraph.add_edges_from(((u, v, {'weight': d[u][v]}) for u, v in matching))\n",
        "\n",
        "    # Step 6: Find Eulerian circuit\n",
        "    euler = list(nx.eulerian_circuit(multigraph, source=0))\n",
        "\n",
        "    # Step 7: Shortcut to create Hamiltonian cycle\n",
        "    visited = set()\n",
        "    tour = []\n",
        "    for u, v in euler:\n",
        "        if u not in visited:\n",
        "            visited.add(u)\n",
        "            tour.append(u)\n",
        "        if len(visited) == n:\n",
        "            break\n",
        "    tour.append(0)  # return to depot\n",
        "\n",
        "    return tour\n"
      ]
    }
  ],
  "metadata": {
    "colab": {
      "provenance": []
    },
    "kernelspec": {
      "display_name": "Python 3 (ipykernel)",
      "language": "python",
      "name": "python3"
    },
    "language_info": {
      "codemirror_mode": {
        "name": "ipython",
        "version": 3
      },
      "file_extension": ".py",
      "mimetype": "text/x-python",
      "name": "python",
      "nbconvert_exporter": "python",
      "pygments_lexer": "ipython3",
      "version": "3.9.7"
    }
  },
  "nbformat": 4,
  "nbformat_minor": 0
}
