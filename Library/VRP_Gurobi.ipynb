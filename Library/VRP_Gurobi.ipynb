{
 "cells": [
  {
   "cell_type": "code",
   "execution_count": 25,
   "metadata": {},
   "outputs": [],
   "source": [
    "import numpy as np\n",
    "import pandas as pd\n",
    "from gurobipy import *"
   ]
  },
  {
   "cell_type": "code",
   "execution_count": 26,
   "metadata": {},
   "outputs": [],
   "source": [
    "df = pd.read_excel('real_distances_10customers.xls') # dataframe\n",
    "nodes = range(df.shape[0])# List of nodes"
   ]
  },
  {
   "cell_type": "code",
   "execution_count": 27,
   "metadata": {},
   "outputs": [],
   "source": [
    "dist = [[df[j][i] for j in nodes] for i in nodes]# Build distance matrix"
   ]
  },
  {
   "cell_type": "markdown",
   "metadata": {},
   "source": [
    "defining demand as unit demand for each nodes"
   ]
  },
  {
   "cell_type": "code",
   "execution_count": 29,
   "metadata": {},
   "outputs": [],
   "source": [
    "demand = np.ones(len(nodes))"
   ]
  },
  {
   "cell_type": "markdown",
   "metadata": {},
   "source": [
    "the minimum number of vehicles is 2 since summation of demand/capacity = 2"
   ]
  },
  {
   "cell_type": "code",
   "execution_count": 31,
   "metadata": {},
   "outputs": [],
   "source": [
    "k = 2 # number of vehicles"
   ]
  },
  {
   "cell_type": "code",
   "execution_count": 32,
   "metadata": {},
   "outputs": [],
   "source": [
    "veh_cap = 5 # vehicle capacity"
   ]
  },
  {
   "cell_type": "code",
   "execution_count": 33,
   "metadata": {},
   "outputs": [],
   "source": [
    "#Create a new model\n",
    "vrp = Model(\"vrp_model\")"
   ]
  },
  {
   "cell_type": "code",
   "execution_count": 34,
   "metadata": {},
   "outputs": [],
   "source": [
    "#Create variables\n",
    "x = vrp.addVars(nodes, nodes, lb = 0,vtype = GRB.BINARY,name = 'x')\n",
    "u = vrp.addVars(nodes, lb = 0,vtype = GRB.INTEGER,name = 'u')"
   ]
  },
  {
   "cell_type": "code",
   "execution_count": 35,
   "metadata": {},
   "outputs": [],
   "source": [
    "#Add constraint\n",
    "vrp.addConstrs(((quicksum(x[i,j] for j in nodes if j != i) == 1) for i in nodes if i != 0), name = '1');\n",
    "vrp.addConstrs(((quicksum(x[i,j] for i in nodes if i != j) == 1) for j in nodes if j != 0), name = '2');\n",
    "vrp.addConstr(((quicksum(x[0,j] for j in nodes) == k)), name = '3');\n",
    "vrp.addConstr(((quicksum(x[i,0] for i in nodes) == k)), name = '4');\n",
    "vrp.addConstrs(((u[i] - u[j] + veh_cap*x[i,j] <= veh_cap - demand[j]) for i in nodes for j in nodes if i!=j and i != 0 and j != 0), name = '5');\n",
    "vrp.addConstrs(((u[i] <= veh_cap) for i in nodes), name = '6');\n",
    "vrp.addConstrs(((u[i] >= demand[i]) for i in nodes), name = '7');"
   ]
  },
  {
   "cell_type": "code",
   "execution_count": 36,
   "metadata": {},
   "outputs": [],
   "source": [
    "#set objective function\n",
    "vrp.setObjective((quicksum(dist[i][j]*x[i,j] for i in nodes for j in nodes if i != j)),GRB.MINIMIZE)"
   ]
  },
  {
   "cell_type": "code",
   "execution_count": 37,
   "metadata": {},
   "outputs": [
    {
     "name": "stdout",
     "output_type": "stream",
     "text": [
      "Set parameter TimeLimit to value 600\n"
     ]
    }
   ],
   "source": [
    "vrp.setParam(\"TimeLimit\", 600)   # time limit\n",
    "#vrp.setParam(\"OutputFlag\", 0)     # do not print on console"
   ]
  },
  {
   "cell_type": "code",
   "execution_count": 38,
   "metadata": {},
   "outputs": [
    {
     "name": "stdout",
     "output_type": "stream",
     "text": [
      "Gurobi Optimizer version 11.0.3 build v11.0.3rc0 (win64 - Windows 11.0 (22631.2))\n",
      "\n",
      "CPU model: 13th Gen Intel(R) Core(TM) i7-13700H, instruction set [SSE2|AVX|AVX2]\n",
      "Thread count: 14 physical cores, 20 logical processors, using up to 20 threads\n",
      "\n",
      "Optimize a model with 134 rows, 132 columns and 514 nonzeros\n",
      "Model fingerprint: 0x1847306b\n",
      "Variable types: 0 continuous, 132 integer (121 binary)\n",
      "Coefficient statistics:\n",
      "  Matrix range     [1e+00, 5e+00]\n",
      "  Objective range  [4e+01, 4e+02]\n",
      "  Bounds range     [1e+00, 1e+00]\n",
      "  RHS range        [1e+00, 5e+00]\n",
      "Presolve removed 22 rows and 11 columns\n",
      "Presolve time: 0.01s\n",
      "Presolved: 112 rows, 121 columns, 492 nonzeros\n",
      "Variable types: 0 continuous, 121 integer (111 binary)\n",
      "Found heuristic solution: objective 2052.0000000\n",
      "\n",
      "Root relaxation: objective 1.059493e+03, 38 iterations, 0.00 seconds (0.00 work units)\n",
      "\n",
      "    Nodes    |    Current Node    |     Objective Bounds      |     Work\n",
      " Expl Unexpl |  Obj  Depth IntInf | Incumbent    BestBd   Gap | It/Node Time\n",
      "\n",
      "     0     0 1059.49333    0   15 2052.00000 1059.49333  48.4%     -    0s\n",
      "H    0     0                    2041.5000000 1059.49333  48.1%     -    0s\n",
      "H    0     0                    1761.0000000 1059.49333  39.8%     -    0s\n",
      "     0     0 1068.46800    0   27 1761.00000 1068.46800  39.3%     -    0s\n",
      "     0     0 1081.95000    0   29 1761.00000 1081.95000  38.6%     -    0s\n",
      "     0     0 1083.49102    0   20 1761.00000 1083.49102  38.5%     -    0s\n",
      "     0     0 1084.30085    0   29 1761.00000 1084.30085  38.4%     -    0s\n",
      "     0     0 1084.30085    0   30 1761.00000 1084.30085  38.4%     -    0s\n",
      "     0     0 1084.30085    0   30 1761.00000 1084.30085  38.4%     -    0s\n",
      "     0     0 1086.40909    0   27 1761.00000 1086.40909  38.3%     -    0s\n",
      "     0     0 1091.02000    0   29 1761.00000 1091.02000  38.0%     -    0s\n",
      "     0     0 1091.02000    0   29 1761.00000 1091.02000  38.0%     -    0s\n",
      "     0     0 1091.02000    0   33 1761.00000 1091.02000  38.0%     -    0s\n",
      "H    0     0                    1723.7000000 1091.02000  36.7%     -    0s\n",
      "     0     0 1091.02000    0   33 1723.70000 1091.02000  36.7%     -    0s\n",
      "     0     2 1101.23600    0   33 1723.70000 1101.23600  36.1%     -    0s\n",
      "H   41    44                    1721.1000000 1106.95661  35.7%  10.6    0s\n",
      "\n",
      "Cutting planes:\n",
      "  Learned: 4\n",
      "\n",
      "Explored 151718 nodes (1077001 simplex iterations) in 2.80 seconds (1.73 work units)\n",
      "Thread count was 20 (of 20 available processors)\n",
      "\n",
      "Solution count 5: 1721.1 1723.7 1761 ... 2052\n",
      "\n",
      "Optimal solution found (tolerance 1.00e-04)\n",
      "Best objective 1.721100000000e+03, best bound 1.721100000000e+03, gap 0.0000%\n"
     ]
    }
   ],
   "source": [
    "vrp.update()\n",
    "vrp.optimize()"
   ]
  },
  {
   "cell_type": "code",
   "execution_count": 39,
   "metadata": {},
   "outputs": [
    {
     "name": "stdout",
     "output_type": "stream",
     "text": [
      "\n",
      "model status is:  2\n",
      "\n",
      "Objective value is:  1721.1\n"
     ]
    }
   ],
   "source": [
    "status = vrp.status\n",
    "\n",
    "object_Value = vrp.objVal\n",
    "\n",
    "print()\n",
    "print(\"model status is: \", status)\n",
    "print()\n",
    "print(\"Objective value is: \", object_Value)"
   ]
  },
  {
   "cell_type": "code",
   "execution_count": 40,
   "metadata": {},
   "outputs": [
    {
     "name": "stdout",
     "output_type": "stream",
     "text": [
      "x[0,3] 1.000000\n",
      "x[0,4] 1.000000\n",
      "x[1,9] 1.000000\n",
      "x[2,1] 1.000000\n",
      "x[3,8] 1.000000\n",
      "x[4,10] 1.000000\n",
      "x[5,0] 1.000000\n",
      "x[6,7] 1.000000\n",
      "x[7,5] 1.000000\n",
      "x[8,6] 1.000000\n",
      "x[9,0] 1.000000\n",
      "x[10,2] 1.000000\n",
      "u[0] 1.000000\n",
      "u[1] 4.000000\n",
      "u[2] 3.000000\n",
      "u[3] 1.000000\n",
      "u[4] 1.000000\n",
      "u[5] 5.000000\n",
      "u[6] 3.000000\n",
      "u[7] 4.000000\n",
      "u[8] 2.000000\n",
      "u[9] 5.000000\n",
      "u[10] 2.000000\n"
     ]
    }
   ],
   "source": [
    "# Print decision varibales which are not zeros\n",
    "if status !=3 and status != 4:\n",
    "    for v in vrp.getVars(): \n",
    "        if vrp.objVal < 1e+99  and v.x!=0:\n",
    "            print('%s %f'%(v.Varname,v.x))"
   ]
  },
  {
   "cell_type": "code",
   "execution_count": 41,
   "metadata": {},
   "outputs": [
    {
     "name": "stdout",
     "output_type": "stream",
     "text": [
      "optimal Solution is: [array([0, 3, 8, 6, 7, 5, 0]), array([ 0,  4, 10,  2,  1,  9,  0])]\n"
     ]
    },
    {
     "name": "stderr",
     "output_type": "stream",
     "text": [
      "C:\\Users\\murat\\AppData\\Local\\Temp\\ipykernel_16220\\2157032967.py:28: DeprecationWarning: Conversion of an array with ndim > 0 to a scalar is deprecated, and will error in future. Ensure you extract a single element from your array before performing this operation. (Deprecated NumPy 1.25.)\n",
      "  next_ind = int(np.where(visited[:,0] == sol[-1])[0])\n"
     ]
    }
   ],
   "source": [
    "# printing routes    \n",
    "if status != 3 and status != 4:\n",
    "    vis = []\n",
    "    Sol_x = np.zeros([len(nodes), len(nodes)])\n",
    "    for i in nodes:\n",
    "        for j in nodes:\n",
    "            if vrp.objVal < 1e+99:\n",
    "                Sol_x[i,j] = x[i,j].getAttr(\"X\")\n",
    "            else:\n",
    "                error_status = True\n",
    "                ofvv = 1e+99\n",
    "            if 1 - 0.00001 <= Sol_x[i,j] <= 1 + 0.00001:\n",
    "                vis.append((i,j))\n",
    "\n",
    "visited = np.array(vis)\n",
    "solution = []\n",
    "if visited[0][0] == 0:\n",
    "    sol = [visited[0][0], visited[0][1]]\n",
    "elif visited[0][0] !=0 and visited[0][1] == 0:\n",
    "    sol = [visited[0][1], visited[0][0]] \n",
    "else:\n",
    "    print('First tuple should include depot 0')\n",
    "visited = np.delete(visited,0, axis = 0)\n",
    "\n",
    "solution = []\n",
    "for i in visited:\n",
    "    try:\n",
    "        next_ind = int(np.where(visited[:,0] == sol[-1])[0])\n",
    "        sol.append(visited[next_ind][1])\n",
    "        visited = np.delete(visited,next_ind, axis = 0)\n",
    "    except:\n",
    "        next_ind = int(np.where(visited[:,1] == sol[-1])[0])\n",
    "        sol.append(visited[next_ind][0])\n",
    "        visited = np.delete(visited,next_ind, axis = 0)\n",
    "    \n",
    "    if sol[0] == sol[-1]:\n",
    "        sol = np.asarray(sol)\n",
    "        solution.append(sol)\n",
    "        used = []\n",
    "        for j in solution:\n",
    "            for k in j:\n",
    "                used.append(k)\n",
    "        remain = list(set(nodes) - set(used))\n",
    "        if remain == []:\n",
    "            break\n",
    "        sol=[visited[0][0], visited[0][1]]\n",
    "        visited = np.delete(visited,0, axis = 0)\n",
    "\n",
    "print('optimal Solution is:', solution)                    "
   ]
  }
 ],
 "metadata": {
  "kernelspec": {
   "display_name": "Python 3 (ipykernel)",
   "language": "python",
   "name": "python3"
  },
  "language_info": {
   "codemirror_mode": {
    "name": "ipython",
    "version": 3
   },
   "file_extension": ".py",
   "mimetype": "text/x-python",
   "name": "python",
   "nbconvert_exporter": "python",
   "pygments_lexer": "ipython3",
   "version": "3.11.7"
  }
 },
 "nbformat": 4,
 "nbformat_minor": 4
}
