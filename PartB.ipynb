{
  "nbformat": 4,
  "nbformat_minor": 0,
  "metadata": {
    "colab": {
      "provenance": []
    },
    "kernelspec": {
      "name": "python3",
      "display_name": "Python 3"
    },
    "language_info": {
      "name": "python"
    }
  },
  "cells": [
    {
      "cell_type": "markdown",
      "source": [
        "### Part B\n",
        "\n",
        "In this part, we implemented the Route-First, Cluster-Second approach. We used two different TSP tour construction methods:\n",
        "- **Christofides Algorithm**\n",
        "- **Nearest Neighbor**\n",
        "\n",
        "Each solution was split into feasible VRP routes based on vehicle capacity (85 units). Then, two improvement heuristics were applied:\n",
        "- **Relocate** to Christofides-based routes\n",
        "- **2-opt** to Nearest Neighbor-based routes\n",
        "\n",
        "We also computed the % improvement and times over the base solution for both methods, and summarized them in a table. And confirmed that all solutions are feasible.\n",
        "\n",
        "\n"
      ],
      "metadata": {
        "id": "hlDfQt0dZ8l3"
      }
    },
    {
      "cell_type": "code",
      "execution_count": 88,
      "metadata": {
        "colab": {
          "base_uri": "https://localhost:8080/"
        },
        "id": "nsS8_5WBh8VL",
        "outputId": "24b21648-4e5f-43bb-96ee-b15a22c396db"
      },
      "outputs": [
        {
          "output_type": "stream",
          "name": "stdout",
          "text": [
            "Requirement already satisfied: ipynb in /usr/local/lib/python3.11/dist-packages (0.5.1)\n"
          ]
        }
      ],
      "source": [
        "!pip install ipynb"
      ]
    },
    {
      "cell_type": "markdown",
      "source": [],
      "metadata": {
        "id": "jS79ENTOfmqB"
      }
    },
    {
      "cell_type": "code",
      "execution_count": 89,
      "metadata": {
        "id": "CdlW3k12IZJE"
      },
      "outputs": [],
      "source": [
        "from scipy.cluster.vq import kmeans2, whiten\n",
        "import matplotlib.pyplot as plt\n",
        "import numpy as np\n",
        "import pandas as pd\n",
        "import time\n",
        "import networkx as nx\n",
        "\n",
        "from ipynb.fs.full.TSPlib import two_opt,christofides\n",
        "from ipynb.fs.full.TSPlib import nearest_neighbor\n",
        "from ipynb.fs.full.TSPlib import relocate, savings\n",
        "from ipynb.fs.full.VRPlib import CFRS, RFCS\n"
      ]
    },
    {
      "cell_type": "code",
      "execution_count": 90,
      "metadata": {
        "id": "fyFN1b2fG6tS"
      },
      "outputs": [],
      "source": [
        "# Load Excel data\n",
        "file_path = \"Spring25Project_Data.xlsx\"\n",
        "df_demands = pd.read_excel(file_path, sheet_name='demands')\n",
        "df_coordinates = pd.read_excel(file_path, sheet_name='coordinates')\n",
        "# Extract coordinates as (x, y) pairs\n",
        "coordinates = df_coordinates[['x-coordinate', 'y-coordinate']].values\n",
        "# Extract demand values as a NumPy array\n",
        "demands = df_demands['Demand'].values"
      ]
    },
    {
      "cell_type": "code",
      "execution_count": 91,
      "metadata": {
        "colab": {
          "base_uri": "https://localhost:8080/",
          "height": 1000
        },
        "id": "4U0AyhCmO46S",
        "outputId": "d8250edc-dc4c-4438-ab65-5653c8765903"
      },
      "outputs": [
        {
          "output_type": "execute_result",
          "data": {
            "text/plain": [
              "    Node ID  x-coordinate  y-coordinate\n",
              "0         0            39            19\n",
              "1         1            79            19\n",
              "2         2            41            79\n",
              "3         3            25            31\n",
              "4         4            63            93\n",
              "5         5            33             5\n",
              "6         6            69            17\n",
              "7         7            57            73\n",
              "8         8            53            75\n",
              "9         9             1             1\n",
              "10       10            79            73\n",
              "11       11            59             5\n",
              "12       12             1            37\n",
              "13       13            41            31\n",
              "14       14            23            73\n",
              "15       15            37            27\n",
              "16       16            85            93\n",
              "17       17            93            13\n",
              "18       18            85            45\n",
              "19       19            49            91\n",
              "20       20            55            43\n",
              "21       21            83            29\n",
              "22       22            93            49\n",
              "23       23            87            23\n",
              "24       24            31            23\n",
              "25       25            19            97\n",
              "26       26            41             9\n",
              "27       27            83            61\n",
              "28       28             9             7\n",
              "29       29            13            13\n",
              "30       30            43            37\n",
              "31       31            13            61\n",
              "32       32            71            51\n",
              "33       33            45            93\n",
              "34       34            93            55\n",
              "35       35             5            97\n",
              "36       36            81            11\n",
              "37       37             7            53\n",
              "38       38             7            41"
            ],
            "text/html": [
              "\n",
              "  <div id=\"df-a907507f-5eb2-4557-b868-027390a5d0cb\" class=\"colab-df-container\">\n",
              "    <div>\n",
              "<style scoped>\n",
              "    .dataframe tbody tr th:only-of-type {\n",
              "        vertical-align: middle;\n",
              "    }\n",
              "\n",
              "    .dataframe tbody tr th {\n",
              "        vertical-align: top;\n",
              "    }\n",
              "\n",
              "    .dataframe thead th {\n",
              "        text-align: right;\n",
              "    }\n",
              "</style>\n",
              "<table border=\"1\" class=\"dataframe\">\n",
              "  <thead>\n",
              "    <tr style=\"text-align: right;\">\n",
              "      <th></th>\n",
              "      <th>Node ID</th>\n",
              "      <th>x-coordinate</th>\n",
              "      <th>y-coordinate</th>\n",
              "    </tr>\n",
              "  </thead>\n",
              "  <tbody>\n",
              "    <tr>\n",
              "      <th>0</th>\n",
              "      <td>0</td>\n",
              "      <td>39</td>\n",
              "      <td>19</td>\n",
              "    </tr>\n",
              "    <tr>\n",
              "      <th>1</th>\n",
              "      <td>1</td>\n",
              "      <td>79</td>\n",
              "      <td>19</td>\n",
              "    </tr>\n",
              "    <tr>\n",
              "      <th>2</th>\n",
              "      <td>2</td>\n",
              "      <td>41</td>\n",
              "      <td>79</td>\n",
              "    </tr>\n",
              "    <tr>\n",
              "      <th>3</th>\n",
              "      <td>3</td>\n",
              "      <td>25</td>\n",
              "      <td>31</td>\n",
              "    </tr>\n",
              "    <tr>\n",
              "      <th>4</th>\n",
              "      <td>4</td>\n",
              "      <td>63</td>\n",
              "      <td>93</td>\n",
              "    </tr>\n",
              "    <tr>\n",
              "      <th>5</th>\n",
              "      <td>5</td>\n",
              "      <td>33</td>\n",
              "      <td>5</td>\n",
              "    </tr>\n",
              "    <tr>\n",
              "      <th>6</th>\n",
              "      <td>6</td>\n",
              "      <td>69</td>\n",
              "      <td>17</td>\n",
              "    </tr>\n",
              "    <tr>\n",
              "      <th>7</th>\n",
              "      <td>7</td>\n",
              "      <td>57</td>\n",
              "      <td>73</td>\n",
              "    </tr>\n",
              "    <tr>\n",
              "      <th>8</th>\n",
              "      <td>8</td>\n",
              "      <td>53</td>\n",
              "      <td>75</td>\n",
              "    </tr>\n",
              "    <tr>\n",
              "      <th>9</th>\n",
              "      <td>9</td>\n",
              "      <td>1</td>\n",
              "      <td>1</td>\n",
              "    </tr>\n",
              "    <tr>\n",
              "      <th>10</th>\n",
              "      <td>10</td>\n",
              "      <td>79</td>\n",
              "      <td>73</td>\n",
              "    </tr>\n",
              "    <tr>\n",
              "      <th>11</th>\n",
              "      <td>11</td>\n",
              "      <td>59</td>\n",
              "      <td>5</td>\n",
              "    </tr>\n",
              "    <tr>\n",
              "      <th>12</th>\n",
              "      <td>12</td>\n",
              "      <td>1</td>\n",
              "      <td>37</td>\n",
              "    </tr>\n",
              "    <tr>\n",
              "      <th>13</th>\n",
              "      <td>13</td>\n",
              "      <td>41</td>\n",
              "      <td>31</td>\n",
              "    </tr>\n",
              "    <tr>\n",
              "      <th>14</th>\n",
              "      <td>14</td>\n",
              "      <td>23</td>\n",
              "      <td>73</td>\n",
              "    </tr>\n",
              "    <tr>\n",
              "      <th>15</th>\n",
              "      <td>15</td>\n",
              "      <td>37</td>\n",
              "      <td>27</td>\n",
              "    </tr>\n",
              "    <tr>\n",
              "      <th>16</th>\n",
              "      <td>16</td>\n",
              "      <td>85</td>\n",
              "      <td>93</td>\n",
              "    </tr>\n",
              "    <tr>\n",
              "      <th>17</th>\n",
              "      <td>17</td>\n",
              "      <td>93</td>\n",
              "      <td>13</td>\n",
              "    </tr>\n",
              "    <tr>\n",
              "      <th>18</th>\n",
              "      <td>18</td>\n",
              "      <td>85</td>\n",
              "      <td>45</td>\n",
              "    </tr>\n",
              "    <tr>\n",
              "      <th>19</th>\n",
              "      <td>19</td>\n",
              "      <td>49</td>\n",
              "      <td>91</td>\n",
              "    </tr>\n",
              "    <tr>\n",
              "      <th>20</th>\n",
              "      <td>20</td>\n",
              "      <td>55</td>\n",
              "      <td>43</td>\n",
              "    </tr>\n",
              "    <tr>\n",
              "      <th>21</th>\n",
              "      <td>21</td>\n",
              "      <td>83</td>\n",
              "      <td>29</td>\n",
              "    </tr>\n",
              "    <tr>\n",
              "      <th>22</th>\n",
              "      <td>22</td>\n",
              "      <td>93</td>\n",
              "      <td>49</td>\n",
              "    </tr>\n",
              "    <tr>\n",
              "      <th>23</th>\n",
              "      <td>23</td>\n",
              "      <td>87</td>\n",
              "      <td>23</td>\n",
              "    </tr>\n",
              "    <tr>\n",
              "      <th>24</th>\n",
              "      <td>24</td>\n",
              "      <td>31</td>\n",
              "      <td>23</td>\n",
              "    </tr>\n",
              "    <tr>\n",
              "      <th>25</th>\n",
              "      <td>25</td>\n",
              "      <td>19</td>\n",
              "      <td>97</td>\n",
              "    </tr>\n",
              "    <tr>\n",
              "      <th>26</th>\n",
              "      <td>26</td>\n",
              "      <td>41</td>\n",
              "      <td>9</td>\n",
              "    </tr>\n",
              "    <tr>\n",
              "      <th>27</th>\n",
              "      <td>27</td>\n",
              "      <td>83</td>\n",
              "      <td>61</td>\n",
              "    </tr>\n",
              "    <tr>\n",
              "      <th>28</th>\n",
              "      <td>28</td>\n",
              "      <td>9</td>\n",
              "      <td>7</td>\n",
              "    </tr>\n",
              "    <tr>\n",
              "      <th>29</th>\n",
              "      <td>29</td>\n",
              "      <td>13</td>\n",
              "      <td>13</td>\n",
              "    </tr>\n",
              "    <tr>\n",
              "      <th>30</th>\n",
              "      <td>30</td>\n",
              "      <td>43</td>\n",
              "      <td>37</td>\n",
              "    </tr>\n",
              "    <tr>\n",
              "      <th>31</th>\n",
              "      <td>31</td>\n",
              "      <td>13</td>\n",
              "      <td>61</td>\n",
              "    </tr>\n",
              "    <tr>\n",
              "      <th>32</th>\n",
              "      <td>32</td>\n",
              "      <td>71</td>\n",
              "      <td>51</td>\n",
              "    </tr>\n",
              "    <tr>\n",
              "      <th>33</th>\n",
              "      <td>33</td>\n",
              "      <td>45</td>\n",
              "      <td>93</td>\n",
              "    </tr>\n",
              "    <tr>\n",
              "      <th>34</th>\n",
              "      <td>34</td>\n",
              "      <td>93</td>\n",
              "      <td>55</td>\n",
              "    </tr>\n",
              "    <tr>\n",
              "      <th>35</th>\n",
              "      <td>35</td>\n",
              "      <td>5</td>\n",
              "      <td>97</td>\n",
              "    </tr>\n",
              "    <tr>\n",
              "      <th>36</th>\n",
              "      <td>36</td>\n",
              "      <td>81</td>\n",
              "      <td>11</td>\n",
              "    </tr>\n",
              "    <tr>\n",
              "      <th>37</th>\n",
              "      <td>37</td>\n",
              "      <td>7</td>\n",
              "      <td>53</td>\n",
              "    </tr>\n",
              "    <tr>\n",
              "      <th>38</th>\n",
              "      <td>38</td>\n",
              "      <td>7</td>\n",
              "      <td>41</td>\n",
              "    </tr>\n",
              "  </tbody>\n",
              "</table>\n",
              "</div>\n",
              "    <div class=\"colab-df-buttons\">\n",
              "\n",
              "  <div class=\"colab-df-container\">\n",
              "    <button class=\"colab-df-convert\" onclick=\"convertToInteractive('df-a907507f-5eb2-4557-b868-027390a5d0cb')\"\n",
              "            title=\"Convert this dataframe to an interactive table.\"\n",
              "            style=\"display:none;\">\n",
              "\n",
              "  <svg xmlns=\"http://www.w3.org/2000/svg\" height=\"24px\" viewBox=\"0 -960 960 960\">\n",
              "    <path d=\"M120-120v-720h720v720H120Zm60-500h600v-160H180v160Zm220 220h160v-160H400v160Zm0 220h160v-160H400v160ZM180-400h160v-160H180v160Zm440 0h160v-160H620v160ZM180-180h160v-160H180v160Zm440 0h160v-160H620v160Z\"/>\n",
              "  </svg>\n",
              "    </button>\n",
              "\n",
              "  <style>\n",
              "    .colab-df-container {\n",
              "      display:flex;\n",
              "      gap: 12px;\n",
              "    }\n",
              "\n",
              "    .colab-df-convert {\n",
              "      background-color: #E8F0FE;\n",
              "      border: none;\n",
              "      border-radius: 50%;\n",
              "      cursor: pointer;\n",
              "      display: none;\n",
              "      fill: #1967D2;\n",
              "      height: 32px;\n",
              "      padding: 0 0 0 0;\n",
              "      width: 32px;\n",
              "    }\n",
              "\n",
              "    .colab-df-convert:hover {\n",
              "      background-color: #E2EBFA;\n",
              "      box-shadow: 0px 1px 2px rgba(60, 64, 67, 0.3), 0px 1px 3px 1px rgba(60, 64, 67, 0.15);\n",
              "      fill: #174EA6;\n",
              "    }\n",
              "\n",
              "    .colab-df-buttons div {\n",
              "      margin-bottom: 4px;\n",
              "    }\n",
              "\n",
              "    [theme=dark] .colab-df-convert {\n",
              "      background-color: #3B4455;\n",
              "      fill: #D2E3FC;\n",
              "    }\n",
              "\n",
              "    [theme=dark] .colab-df-convert:hover {\n",
              "      background-color: #434B5C;\n",
              "      box-shadow: 0px 1px 3px 1px rgba(0, 0, 0, 0.15);\n",
              "      filter: drop-shadow(0px 1px 2px rgba(0, 0, 0, 0.3));\n",
              "      fill: #FFFFFF;\n",
              "    }\n",
              "  </style>\n",
              "\n",
              "    <script>\n",
              "      const buttonEl =\n",
              "        document.querySelector('#df-a907507f-5eb2-4557-b868-027390a5d0cb button.colab-df-convert');\n",
              "      buttonEl.style.display =\n",
              "        google.colab.kernel.accessAllowed ? 'block' : 'none';\n",
              "\n",
              "      async function convertToInteractive(key) {\n",
              "        const element = document.querySelector('#df-a907507f-5eb2-4557-b868-027390a5d0cb');\n",
              "        const dataTable =\n",
              "          await google.colab.kernel.invokeFunction('convertToInteractive',\n",
              "                                                    [key], {});\n",
              "        if (!dataTable) return;\n",
              "\n",
              "        const docLinkHtml = 'Like what you see? Visit the ' +\n",
              "          '<a target=\"_blank\" href=https://colab.research.google.com/notebooks/data_table.ipynb>data table notebook</a>'\n",
              "          + ' to learn more about interactive tables.';\n",
              "        element.innerHTML = '';\n",
              "        dataTable['output_type'] = 'display_data';\n",
              "        await google.colab.output.renderOutput(dataTable, element);\n",
              "        const docLink = document.createElement('div');\n",
              "        docLink.innerHTML = docLinkHtml;\n",
              "        element.appendChild(docLink);\n",
              "      }\n",
              "    </script>\n",
              "  </div>\n",
              "\n",
              "\n",
              "    <div id=\"df-382bdd4e-d231-40d3-bef8-9782ff7631e5\">\n",
              "      <button class=\"colab-df-quickchart\" onclick=\"quickchart('df-382bdd4e-d231-40d3-bef8-9782ff7631e5')\"\n",
              "                title=\"Suggest charts\"\n",
              "                style=\"display:none;\">\n",
              "\n",
              "<svg xmlns=\"http://www.w3.org/2000/svg\" height=\"24px\"viewBox=\"0 0 24 24\"\n",
              "     width=\"24px\">\n",
              "    <g>\n",
              "        <path d=\"M19 3H5c-1.1 0-2 .9-2 2v14c0 1.1.9 2 2 2h14c1.1 0 2-.9 2-2V5c0-1.1-.9-2-2-2zM9 17H7v-7h2v7zm4 0h-2V7h2v10zm4 0h-2v-4h2v4z\"/>\n",
              "    </g>\n",
              "</svg>\n",
              "      </button>\n",
              "\n",
              "<style>\n",
              "  .colab-df-quickchart {\n",
              "      --bg-color: #E8F0FE;\n",
              "      --fill-color: #1967D2;\n",
              "      --hover-bg-color: #E2EBFA;\n",
              "      --hover-fill-color: #174EA6;\n",
              "      --disabled-fill-color: #AAA;\n",
              "      --disabled-bg-color: #DDD;\n",
              "  }\n",
              "\n",
              "  [theme=dark] .colab-df-quickchart {\n",
              "      --bg-color: #3B4455;\n",
              "      --fill-color: #D2E3FC;\n",
              "      --hover-bg-color: #434B5C;\n",
              "      --hover-fill-color: #FFFFFF;\n",
              "      --disabled-bg-color: #3B4455;\n",
              "      --disabled-fill-color: #666;\n",
              "  }\n",
              "\n",
              "  .colab-df-quickchart {\n",
              "    background-color: var(--bg-color);\n",
              "    border: none;\n",
              "    border-radius: 50%;\n",
              "    cursor: pointer;\n",
              "    display: none;\n",
              "    fill: var(--fill-color);\n",
              "    height: 32px;\n",
              "    padding: 0;\n",
              "    width: 32px;\n",
              "  }\n",
              "\n",
              "  .colab-df-quickchart:hover {\n",
              "    background-color: var(--hover-bg-color);\n",
              "    box-shadow: 0 1px 2px rgba(60, 64, 67, 0.3), 0 1px 3px 1px rgba(60, 64, 67, 0.15);\n",
              "    fill: var(--button-hover-fill-color);\n",
              "  }\n",
              "\n",
              "  .colab-df-quickchart-complete:disabled,\n",
              "  .colab-df-quickchart-complete:disabled:hover {\n",
              "    background-color: var(--disabled-bg-color);\n",
              "    fill: var(--disabled-fill-color);\n",
              "    box-shadow: none;\n",
              "  }\n",
              "\n",
              "  .colab-df-spinner {\n",
              "    border: 2px solid var(--fill-color);\n",
              "    border-color: transparent;\n",
              "    border-bottom-color: var(--fill-color);\n",
              "    animation:\n",
              "      spin 1s steps(1) infinite;\n",
              "  }\n",
              "\n",
              "  @keyframes spin {\n",
              "    0% {\n",
              "      border-color: transparent;\n",
              "      border-bottom-color: var(--fill-color);\n",
              "      border-left-color: var(--fill-color);\n",
              "    }\n",
              "    20% {\n",
              "      border-color: transparent;\n",
              "      border-left-color: var(--fill-color);\n",
              "      border-top-color: var(--fill-color);\n",
              "    }\n",
              "    30% {\n",
              "      border-color: transparent;\n",
              "      border-left-color: var(--fill-color);\n",
              "      border-top-color: var(--fill-color);\n",
              "      border-right-color: var(--fill-color);\n",
              "    }\n",
              "    40% {\n",
              "      border-color: transparent;\n",
              "      border-right-color: var(--fill-color);\n",
              "      border-top-color: var(--fill-color);\n",
              "    }\n",
              "    60% {\n",
              "      border-color: transparent;\n",
              "      border-right-color: var(--fill-color);\n",
              "    }\n",
              "    80% {\n",
              "      border-color: transparent;\n",
              "      border-right-color: var(--fill-color);\n",
              "      border-bottom-color: var(--fill-color);\n",
              "    }\n",
              "    90% {\n",
              "      border-color: transparent;\n",
              "      border-bottom-color: var(--fill-color);\n",
              "    }\n",
              "  }\n",
              "</style>\n",
              "\n",
              "      <script>\n",
              "        async function quickchart(key) {\n",
              "          const quickchartButtonEl =\n",
              "            document.querySelector('#' + key + ' button');\n",
              "          quickchartButtonEl.disabled = true;  // To prevent multiple clicks.\n",
              "          quickchartButtonEl.classList.add('colab-df-spinner');\n",
              "          try {\n",
              "            const charts = await google.colab.kernel.invokeFunction(\n",
              "                'suggestCharts', [key], {});\n",
              "          } catch (error) {\n",
              "            console.error('Error during call to suggestCharts:', error);\n",
              "          }\n",
              "          quickchartButtonEl.classList.remove('colab-df-spinner');\n",
              "          quickchartButtonEl.classList.add('colab-df-quickchart-complete');\n",
              "        }\n",
              "        (() => {\n",
              "          let quickchartButtonEl =\n",
              "            document.querySelector('#df-382bdd4e-d231-40d3-bef8-9782ff7631e5 button');\n",
              "          quickchartButtonEl.style.display =\n",
              "            google.colab.kernel.accessAllowed ? 'block' : 'none';\n",
              "        })();\n",
              "      </script>\n",
              "    </div>\n",
              "\n",
              "  <div id=\"id_30310f1d-6ecb-4a3b-8a9e-98799a308be1\">\n",
              "    <style>\n",
              "      .colab-df-generate {\n",
              "        background-color: #E8F0FE;\n",
              "        border: none;\n",
              "        border-radius: 50%;\n",
              "        cursor: pointer;\n",
              "        display: none;\n",
              "        fill: #1967D2;\n",
              "        height: 32px;\n",
              "        padding: 0 0 0 0;\n",
              "        width: 32px;\n",
              "      }\n",
              "\n",
              "      .colab-df-generate:hover {\n",
              "        background-color: #E2EBFA;\n",
              "        box-shadow: 0px 1px 2px rgba(60, 64, 67, 0.3), 0px 1px 3px 1px rgba(60, 64, 67, 0.15);\n",
              "        fill: #174EA6;\n",
              "      }\n",
              "\n",
              "      [theme=dark] .colab-df-generate {\n",
              "        background-color: #3B4455;\n",
              "        fill: #D2E3FC;\n",
              "      }\n",
              "\n",
              "      [theme=dark] .colab-df-generate:hover {\n",
              "        background-color: #434B5C;\n",
              "        box-shadow: 0px 1px 3px 1px rgba(0, 0, 0, 0.15);\n",
              "        filter: drop-shadow(0px 1px 2px rgba(0, 0, 0, 0.3));\n",
              "        fill: #FFFFFF;\n",
              "      }\n",
              "    </style>\n",
              "    <button class=\"colab-df-generate\" onclick=\"generateWithVariable('df_coordinates')\"\n",
              "            title=\"Generate code using this dataframe.\"\n",
              "            style=\"display:none;\">\n",
              "\n",
              "  <svg xmlns=\"http://www.w3.org/2000/svg\" height=\"24px\"viewBox=\"0 0 24 24\"\n",
              "       width=\"24px\">\n",
              "    <path d=\"M7,19H8.4L18.45,9,17,7.55,7,17.6ZM5,21V16.75L18.45,3.32a2,2,0,0,1,2.83,0l1.4,1.43a1.91,1.91,0,0,1,.58,1.4,1.91,1.91,0,0,1-.58,1.4L9.25,21ZM18.45,9,17,7.55Zm-12,3A5.31,5.31,0,0,0,4.9,8.1,5.31,5.31,0,0,0,1,6.5,5.31,5.31,0,0,0,4.9,4.9,5.31,5.31,0,0,0,6.5,1,5.31,5.31,0,0,0,8.1,4.9,5.31,5.31,0,0,0,12,6.5,5.46,5.46,0,0,0,6.5,12Z\"/>\n",
              "  </svg>\n",
              "    </button>\n",
              "    <script>\n",
              "      (() => {\n",
              "      const buttonEl =\n",
              "        document.querySelector('#id_30310f1d-6ecb-4a3b-8a9e-98799a308be1 button.colab-df-generate');\n",
              "      buttonEl.style.display =\n",
              "        google.colab.kernel.accessAllowed ? 'block' : 'none';\n",
              "\n",
              "      buttonEl.onclick = () => {\n",
              "        google.colab.notebook.generateWithVariable('df_coordinates');\n",
              "      }\n",
              "      })();\n",
              "    </script>\n",
              "  </div>\n",
              "\n",
              "    </div>\n",
              "  </div>\n"
            ],
            "application/vnd.google.colaboratory.intrinsic+json": {
              "type": "dataframe",
              "variable_name": "df_coordinates",
              "summary": "{\n  \"name\": \"df_coordinates\",\n  \"rows\": 39,\n  \"fields\": [\n    {\n      \"column\": \"Node ID\",\n      \"properties\": {\n        \"dtype\": \"number\",\n        \"std\": 11,\n        \"min\": 0,\n        \"max\": 38,\n        \"num_unique_values\": 39,\n        \"samples\": [\n          33,\n          36,\n          4\n        ],\n        \"semantic_type\": \"\",\n        \"description\": \"\"\n      }\n    },\n    {\n      \"column\": \"x-coordinate\",\n      \"properties\": {\n        \"dtype\": \"number\",\n        \"std\": 29,\n        \"min\": 1,\n        \"max\": 93,\n        \"num_unique_values\": 29,\n        \"samples\": [\n          81,\n          55,\n          37\n        ],\n        \"semantic_type\": \"\",\n        \"description\": \"\"\n      }\n    },\n    {\n      \"column\": \"y-coordinate\",\n      \"properties\": {\n        \"dtype\": \"number\",\n        \"std\": 30,\n        \"min\": 1,\n        \"max\": 97,\n        \"num_unique_values\": 27,\n        \"samples\": [\n          1,\n          91,\n          37\n        ],\n        \"semantic_type\": \"\",\n        \"description\": \"\"\n      }\n    }\n  ]\n}"
            }
          },
          "metadata": {},
          "execution_count": 91
        }
      ],
      "source": [
        "df_coordinates"
      ]
    },
    {
      "cell_type": "markdown",
      "metadata": {
        "id": "fl4odtT0fmLM"
      },
      "source": [
        "#**Euclidian Distance**"
      ]
    },
    {
      "cell_type": "code",
      "execution_count": 92,
      "metadata": {
        "id": "jA_BxvHdIvnR"
      },
      "outputs": [],
      "source": [
        "import math\n",
        "\n",
        "lat = df_coordinates[\"y-coordinate\"]\n",
        "lon = df_coordinates[\"x-coordinate\"]\n",
        "\n",
        "# Calculate the average latitude\n",
        "mean_lat = lat.mean()\n",
        "\n",
        "# 1 degree of latitude is approximately 111320 meters\n",
        "meters_per_deg_lat = 111320\n",
        "\n",
        "# 1 degree of longitude is approximately 111320 * cos(average latitude) meters\n",
        "meters_per_deg_lon = 111320 * math.cos(math.radians(mean_lat))\n",
        "\n",
        "# Transform coordinates relative to a reference point\n",
        "df_coordinates[\"x_m\"] = (lon - lon.min()) * meters_per_deg_lon\n",
        "df_coordinates[\"y_m\"] = (lat - lat.min()) * meters_per_deg_lat\n",
        "\n",
        "# Convert the transformed coordinates (in meters) to a numpy array\n",
        "coords_m = df_coordinates[['x_m', 'y_m']].values\n",
        "\n",
        "# Compute the distance matrix using numpy broadcasting\n",
        "d = np.sqrt(((coords_m[:, None, :] - coords_m[None, :, :]) ** 2).sum(axis=2))\n",
        "\n"
      ]
    },
    {
      "cell_type": "code",
      "source": [
        "#demands are from the excel sheet,defined at the beginning\n",
        "veh_cap = 85\n",
        "total_demand = sum(demands)\n",
        "k = math.ceil(total_demand/veh_cap) # number of vehicles available\n",
        "\n",
        "print(\"Total demand:\", total_demand)\n",
        "print(\"Vehicle capacity:\", veh_cap)\n",
        "print(\"Estimated number of vehicles:\", k)"
      ],
      "metadata": {
        "id": "7yp3-n72djO9",
        "colab": {
          "base_uri": "https://localhost:8080/"
        },
        "outputId": "1399ea31-1bb0-480e-d2fc-d0cf0ded2ebc"
      },
      "execution_count": 93,
      "outputs": [
        {
          "output_type": "stream",
          "name": "stdout",
          "text": [
            "Total demand: 526\n",
            "Vehicle capacity: 85\n",
            "Estimated number of vehicles: 7\n"
          ]
        }
      ]
    },
    {
      "cell_type": "code",
      "source": [
        "nodes = list(range(df_coordinates.shape[0]))"
      ],
      "metadata": {
        "id": "YFcu-r2oaCtV"
      },
      "execution_count": 94,
      "outputs": []
    },
    {
      "cell_type": "code",
      "source": [
        "node_coordinates = {i: (df_coordinates[\"x-coordinate\"][i], df_coordinates[\"y-coordinate\"][i])\n",
        "                    for i in nodes}"
      ],
      "metadata": {
        "id": "lBg0DXayao_u"
      },
      "execution_count": 95,
      "outputs": []
    },
    {
      "cell_type": "code",
      "source": [
        "x, y = kmeans2(whiten(coordinates), k, iter = 100)"
      ],
      "metadata": {
        "id": "3ZzD2iIQa3Bj",
        "colab": {
          "base_uri": "https://localhost:8080/"
        },
        "outputId": "406c230f-bcc1-46cf-ba02-d41f71117541"
      },
      "execution_count": 96,
      "outputs": [
        {
          "output_type": "stream",
          "name": "stderr",
          "text": [
            "/usr/local/lib/python3.11/dist-packages/scipy/_lib/_util.py:440: UserWarning: One of the clusters is empty. Re-run kmeans with a different initialization.\n",
            "  return fun(*args, **kwargs)\n"
          ]
        }
      ]
    },
    {
      "cell_type": "code",
      "source": [
        "plt.scatter(coordinates[:,0], coordinates[:,1], c = y)\n",
        "plt.axis('off')\n",
        "plt.show()"
      ],
      "metadata": {
        "id": "rED6VLoEa4v8",
        "colab": {
          "base_uri": "https://localhost:8080/",
          "height": 406
        },
        "outputId": "5f6ece93-f929-4997-e3c5-bbf7ff89d30a"
      },
      "execution_count": 97,
      "outputs": [
        {
          "output_type": "display_data",
          "data": {
            "text/plain": [
              "<Figure size 640x480 with 1 Axes>"
            ],
            "image/png": "[encoded data removed]"
          },
          "metadata": {}
        }
      ]
    },
    {
      "cell_type": "markdown",
      "source": [
        "# **RFCS with Christofides algorithm**"
      ],
      "metadata": {
        "id": "DLqsnUrKvAgB"
      }
    },
    {
      "cell_type": "code",
      "source": [
        "# Start timing\n",
        "start_time = time.time()\n",
        "\n",
        "vrp_solution, total_length = RFCS(coordinates, d, demands, veh_cap, method='christofides')\n",
        "\n",
        "\n",
        "# End timing\n",
        "end_time = time.time()\n",
        "runtime_RFCS_C = end_time - start_time\n",
        "print(f\"\\n Total runtime for RFCS: {runtime_RFCS_C:.4f} seconds\")"
      ],
      "metadata": {
        "colab": {
          "base_uri": "https://localhost:8080/"
        },
        "id": "6OExr5LaT0Fv",
        "outputId": "065293f8-8385-4d66-9055-72c963530858"
      },
      "execution_count": 98,
      "outputs": [
        {
          "output_type": "stream",
          "name": "stdout",
          "text": [
            "\n",
            " Total runtime for RFCS: 0.0135 seconds\n"
          ]
        }
      ]
    },
    {
      "cell_type": "code",
      "source": [
        "print(\"The VRP solution obtained by RFCS procedure:\\n\", vrp_solution, \"with a\"\n",
        "      \" total length of\", total_length)"
      ],
      "metadata": {
        "colab": {
          "base_uri": "https://localhost:8080/"
        },
        "id": "eJx_ASBYYY5k",
        "outputId": "e21f8450-5418-4aab-a206-f13559ba752a"
      },
      "execution_count": 99,
      "outputs": [
        {
          "output_type": "stream",
          "name": "stdout",
          "text": [
            "The VRP solution obtained by RFCS procedure:\n",
            " [[0, 1, 26, 5, 9, 28, 29, 0], [0, 24, 15, 0], [0, 13, 30, 0], [0, 20, 32, 18, 22, 34, 27, 10, 7, 8, 0], [0, 2, 35, 25, 33, 19, 0], [0, 16, 4, 14, 31, 37, 38, 0], [0, 12, 3, 11, 6, 0], [0, 36, 17, 21, 23, 0]] with a total length of 106118215.32\n"
          ]
        }
      ]
    },
    {
      "cell_type": "markdown",
      "source": [
        "# **Applying Relocate algorithm to RFCS-Christofides solution**\n",
        "\n"
      ],
      "metadata": {
        "id": "UTTV_CjJwsHs"
      }
    },
    {
      "cell_type": "code",
      "source": [
        "#apply Relocate\n",
        "\n",
        "# Start timing\n",
        "start_time = time.time()\n",
        "\n",
        "\n",
        "improved_solution_reloc = []\n",
        "improved_cost_reloc = 0\n",
        "\n",
        "for route in vrp_solution:\n",
        "    if route[0] == 0 and route[-1] == 0:\n",
        "        core = route[1:-1]\n",
        "    else:\n",
        "        core = route\n",
        "\n",
        "    improved_route, cost = relocate([0] + core + [0], depot=0, d=d)\n",
        "    improved_solution_reloc.append(improved_route)\n",
        "    improved_cost_reloc += cost\n",
        "\n",
        "print(\"\\n Christofides + Relocation Results:\")\n",
        "for i, route in enumerate(improved_solution_reloc):\n",
        "    print(f\"Route {i+1}: {route}\")\n",
        "print(\"Total cost after Relocation:\", improved_cost_reloc)\n",
        "\n",
        "# End timing\n",
        "end_time = time.time()\n",
        "\n",
        "runtime_RFCS_relocate = end_time - start_time\n",
        "print(f\"\\n Total runtime for RFCS + Relocate algorithm: {runtime_RFCS_relocate:.4f} seconds\")\n"
      ],
      "metadata": {
        "colab": {
          "base_uri": "https://localhost:8080/"
        },
        "id": "Dcq4QWVyewkN",
        "outputId": "9822997b-fa77-4a44-f08a-fd1012dcddd3"
      },
      "execution_count": 100,
      "outputs": [
        {
          "output_type": "stream",
          "name": "stdout",
          "text": [
            "\n",
            " Christofides + Relocation Results:\n",
            "Route 1: [0, 1, 26, 5, 9, 28, 29, 0]\n",
            "Route 2: [0, 24, 15, 0]\n",
            "Route 3: [0, 13, 30, 0]\n",
            "Route 4: [0, 20, 32, 18, 22, 34, 27, 10, 7, 8, 0]\n",
            "Route 5: [0, 35, 25, 33, 19, 2, 0]\n",
            "Route 6: [0, 16, 4, 14, 31, 37, 38, 0]\n",
            "Route 7: [0, 12, 3, 6, 11, 0]\n",
            "Route 8: [0, 36, 17, 23, 21, 0]\n",
            "Total cost after Relocation: 103949916.89404477\n",
            "\n",
            " Total runtime for RFCS + Relocate algorithm: 0.0024 seconds\n"
          ]
        }
      ]
    },
    {
      "cell_type": "markdown",
      "source": [
        "# **RFCS with Nearest Neighbor algorithm**"
      ],
      "metadata": {
        "id": "2v-onXNKNsRp"
      }
    },
    {
      "cell_type": "code",
      "source": [
        "# Start timing\n",
        "start_time = time.time()\n",
        "\n",
        "vrp_solution_NN, total_length_NN = RFCS(coordinates, d, demands, veh_cap,method='nearest_neighbor')\n",
        "\n",
        "\n",
        "# End timing\n",
        "end_time = time.time()\n",
        "runtime_RFCS_NN = end_time - start_time\n",
        "print(f\"\\n Total runtime for RFCS: {runtime_RFCS_NN:.4f} seconds\")"
      ],
      "metadata": {
        "colab": {
          "base_uri": "https://localhost:8080/"
        },
        "id": "HxE4i9wsNpL0",
        "outputId": "b1cb90f8-2955-4c43-ba2e-192e4be095af"
      },
      "execution_count": 101,
      "outputs": [
        {
          "output_type": "stream",
          "name": "stdout",
          "text": [
            "Added 24 to the tour!\n",
            "Added 15 to the tour!\n",
            "Added 13 to the tour!\n",
            "Added 30 to the tour!\n",
            "Added 20 to the tour!\n",
            "Added 32 to the tour!\n",
            "Added 18 to the tour!\n",
            "Added 22 to the tour!\n",
            "Added 34 to the tour!\n",
            "Added 27 to the tour!\n",
            "Added 10 to the tour!\n",
            "Added 7 to the tour!\n",
            "Added 8 to the tour!\n",
            "Added 2 to the tour!\n",
            "Added 19 to the tour!\n",
            "Added 33 to the tour!\n",
            "Added 4 to the tour!\n",
            "Added 16 to the tour!\n",
            "Added 25 to the tour!\n",
            "Added 35 to the tour!\n",
            "Added 14 to the tour!\n",
            "Added 31 to the tour!\n",
            "Added 37 to the tour!\n",
            "Added 38 to the tour!\n",
            "Added 12 to the tour!\n",
            "Added 3 to the tour!\n",
            "Added 29 to the tour!\n",
            "Added 28 to the tour!\n",
            "Added 9 to the tour!\n",
            "Added 5 to the tour!\n",
            "Added 26 to the tour!\n",
            "Added 11 to the tour!\n",
            "Added 6 to the tour!\n",
            "Added 1 to the tour!\n",
            "Added 23 to the tour!\n",
            "Added 21 to the tour!\n",
            "Added 17 to the tour!\n",
            "Added 36 to the tour!\n",
            "\n",
            " Total runtime for RFCS: 0.0020 seconds\n"
          ]
        }
      ]
    },
    {
      "cell_type": "markdown",
      "source": [
        "# **Applying Two-opt algorithm to RFCS-NearestNeighbor solution**\n",
        "\n"
      ],
      "metadata": {
        "id": "QZ8VXwknM2I0"
      }
    },
    {
      "cell_type": "code",
      "source": [
        "#applying two-opt\n",
        "\n",
        "# Start timing\n",
        "start_time = time.time()\n",
        "\n",
        "\n",
        "depot=0\n",
        "improved_solution_2opt = []\n",
        "improved_cost_2opt = 0\n",
        "\n",
        "for route in vrp_solution_NN:\n",
        "    if route[0] == 0 and route[-1] == 0:\n",
        "        core = route[1:-1]\n",
        "    else:\n",
        "        core = route\n",
        "\n",
        "    new_core, _ = two_opt(core, depot, d)\n",
        "    new_route = [0] + new_core + [0]\n",
        "    cost = sum(d[new_route[i]][new_route[i+1]] for i in range(len(new_route)-1))\n",
        "\n",
        "    improved_solution_2opt.append(new_route)\n",
        "    improved_cost_2opt += cost\n",
        "\n",
        "print(\"\\n Nearest Neighbor + 2-opt Results:\")\n",
        "for i, route in enumerate(improved_solution_2opt):\n",
        "    print(f\"Route {i+1}: {route}\")\n",
        "print(\"Total cost after 2-opt:\", improved_cost_2opt)\n",
        "\n",
        "# End timing\n",
        "end_time = time.time()\n",
        "\n",
        "runtime_RFCS_twoopt = end_time - start_time\n",
        "print(f\"\\n Total runtime for RFCS + 2-opt Algorithm: {runtime_RFCS_twoopt:.4f} seconds\")"
      ],
      "metadata": {
        "colab": {
          "base_uri": "https://localhost:8080/"
        },
        "id": "pMal0gZ8JO9g",
        "outputId": "ffcf4891-4f78-4fde-c3cf-e9423d13ce94"
      },
      "execution_count": 102,
      "outputs": [
        {
          "output_type": "stream",
          "name": "stdout",
          "text": [
            "\n",
            "Attempting to improve the tour [24, 15] with length 0\n",
            "\n",
            "Attempting to improve the tour [13, 30] with length 0\n",
            "\n",
            "Attempting to improve the tour [20, 32, 18, 22, 34, 27, 10, 7, 8] with length 0\n",
            "Cost difference due to swapping 32 and 18 is: 1806428.95\n",
            "Cost difference due to swapping 32 and 22 is: 2645680.9\n",
            "Cost difference due to swapping 32 and 34 is: 2162558.43\n",
            "Cost difference due to swapping 32 and 27 is: 2593099.06\n",
            "Cost difference due to swapping 32 and 10 is: 3247007.03\n",
            "Cost difference due to swapping 32 and 7 is: 4438776.65\n",
            "Cost difference due to swapping 18 and 22 is: 1069384.13\n",
            "Cost difference due to swapping 18 and 34 is: 1255299.18\n",
            "Cost difference due to swapping 18 and 27 is: 1951121.53\n",
            "Cost difference due to swapping 18 and 10 is: 3324716.74\n",
            "Cost difference due to swapping 18 and 7 is: 5195027.64\n",
            "Cost difference due to swapping 22 and 34 is: 1025528.8\n",
            "Cost difference due to swapping 22 and 27 is: 2534270.31\n",
            "Cost difference due to swapping 22 and 10 is: 4544066.38\n",
            "Cost difference due to swapping 22 and 7 is: 6939907.04\n",
            "Cost difference due to swapping 34 and 27 is: 1797717.83\n",
            "Cost difference due to swapping 34 and 10 is: 3961893.71\n",
            "Cost difference due to swapping 34 and 7 is: 6701218.79\n",
            "Cost difference due to swapping 27 and 10 is: 1966631.68\n",
            "Cost difference due to swapping 27 and 7 is: 4885085.94\n",
            "Cost difference due to swapping 10 and 7 is: 2747632.55\n",
            "\n",
            "Attempting to improve the tour [2, 19, 33, 4] with length 0\n",
            "Cost difference due to swapping 19 and 33 is: -179940.16\n",
            "Found an improving move! Updating the best tour...\n",
            "Improved tour is: [2, 33, 19, 4] with length -179940.16\n",
            "\n",
            "Attempting to improve the tour [2, 33, 19, 4] with length -179940.16\n",
            "Cost difference due to swapping 33 and 19 is: 179940.16\n",
            "\n",
            "Attempting to improve the tour [16, 25, 35, 14, 31, 37, 38] with length 0\n",
            "Cost difference due to swapping 25 and 35 is: 765148.3\n",
            "Cost difference due to swapping 25 and 14 is: 2633725.43\n",
            "Cost difference due to swapping 25 and 31 is: 5459687.94\n",
            "Cost difference due to swapping 25 and 37 is: 7339413.13\n",
            "Cost difference due to swapping 35 and 14 is: 4093120.2\n",
            "Cost difference due to swapping 35 and 31 is: 6824676.19\n",
            "Cost difference due to swapping 35 and 37 is: 8785562.08\n",
            "Cost difference due to swapping 14 and 31 is: 2582301.14\n",
            "Cost difference due to swapping 14 and 37 is: 4318745.17\n",
            "Cost difference due to swapping 31 and 37 is: 1947818.5\n",
            "\n",
            "Attempting to improve the tour [12, 3, 29, 28, 9, 5] with length 0\n",
            "Cost difference due to swapping 3 and 29 is: 3044273.32\n",
            "Cost difference due to swapping 3 and 28 is: 4312588.93\n",
            "Cost difference due to swapping 3 and 9 is: 2404160.86\n",
            "Cost difference due to swapping 29 and 28 is: 1456729.93\n",
            "Cost difference due to swapping 29 and 9 is: 871944.18\n",
            "Cost difference due to swapping 28 and 9 is: 241775.27\n",
            "\n",
            "Attempting to improve the tour [26, 11, 6, 1, 23, 21] with length 0\n",
            "Cost difference due to swapping 11 and 6 is: 2290101.58\n",
            "Cost difference due to swapping 11 and 1 is: 3916181.34\n",
            "Cost difference due to swapping 11 and 23 is: 4993189.81\n",
            "Cost difference due to swapping 6 and 1 is: 1461225.64\n",
            "Cost difference due to swapping 6 and 23 is: 2423140.51\n",
            "Cost difference due to swapping 1 and 23 is: 1167263.24\n",
            "\n",
            "Attempting to improve the tour [17, 36] with length 0\n",
            "\n",
            " Nearest Neighbor + 2-opt Results:\n",
            "Route 1: [0, 24, 15, 0]\n",
            "Route 2: [0, 13, 30, 0]\n",
            "Route 3: [0, 20, 32, 18, 22, 34, 27, 10, 7, 8, 0]\n",
            "Route 4: [0, 2, 33, 19, 4, 0]\n",
            "Route 5: [0, 16, 25, 35, 14, 31, 37, 38, 0]\n",
            "Route 6: [0, 12, 3, 29, 28, 9, 5, 0]\n",
            "Route 7: [0, 26, 11, 6, 1, 23, 21, 0]\n",
            "Route 8: [0, 17, 36, 0]\n",
            "Total cost after 2-opt: 100962383.69123667\n",
            "\n",
            " Total runtime for RFCS + 2-opt Algorithm: 0.0020 seconds\n"
          ]
        }
      ]
    },
    {
      "cell_type": "markdown",
      "source": [
        "# Function,\n",
        "# for checking the vehcile capacity,\n",
        "# for visiting every vertex once,\n",
        "# for starting and ending the tour at zero(depot)\n"
      ],
      "metadata": {
        "id": "eyYm6kz6VcuE"
      }
    },
    {
      "cell_type": "code",
      "source": [
        "def verify_solution(routes, demands, vehicle_capacity):\n",
        "    all_customers = set()\n",
        "    valid = True\n",
        "\n",
        "    for idx, route in enumerate(routes):\n",
        "        if route[0] != 0 or route[-1] != 0:\n",
        "            print(f\" Route {idx+1} does not start/end at depot.\")\n",
        "            valid = False\n",
        "\n",
        "        # Remove depot entries to count only customers\n",
        "        customers = [node for node in route if node != 0]\n",
        "\n",
        "        demand = sum(demands[c] for c in customers)\n",
        "        if demand > vehicle_capacity:\n",
        "            print(f\" Route {idx+1} exceeds capacity: {demand} > {vehicle_capacity}\")\n",
        "            valid = False\n",
        "\n",
        "        all_customers.update(customers)\n",
        "\n",
        "    expected_customers = set(range(1, len(demands)))  # excluding the depot, zero\n",
        "    if all_customers != expected_customers:\n",
        "        missing = expected_customers - all_customers\n",
        "        extra = all_customers - expected_customers\n",
        "        print(f\" Customer mismatch. Missing: {missing}, Extra: {extra}\")\n",
        "        valid = False\n",
        "\n",
        "    if valid:\n",
        "        print(\" All routes are valid!\")\n",
        "    return valid\n",
        "\n",
        "\n",
        "print(\"\\n Verifying Base RFCS + NN Solution:\")\n",
        "verify_solution(vrp_solution_NN, demands, veh_cap)\n",
        "\n",
        "print(\"\\n Verifying Relocation Improved Solution:\")\n",
        "verify_solution(improved_solution_reloc, demands, veh_cap)\n",
        "\n",
        "print(\"\\n Verifying 2-opt Improved Solution:\")\n",
        "verify_solution(improved_solution_2opt, demands, veh_cap)\n",
        "\n"
      ],
      "metadata": {
        "id": "bL4S3RnTezK9",
        "colab": {
          "base_uri": "https://localhost:8080/"
        },
        "outputId": "046bdc9c-eeca-4b6f-adfd-a70010a45d8c"
      },
      "execution_count": 103,
      "outputs": [
        {
          "output_type": "stream",
          "name": "stdout",
          "text": [
            "\n",
            " Verifying Base RFCS + NN Solution:\n",
            " All routes are valid!\n",
            "\n",
            " Verifying Relocation Improved Solution:\n",
            " All routes are valid!\n",
            "\n",
            " Verifying 2-opt Improved Solution:\n",
            " All routes are valid!\n"
          ]
        },
        {
          "output_type": "execute_result",
          "data": {
            "text/plain": [
              "True"
            ]
          },
          "metadata": {},
          "execution_count": 103
        }
      ]
    },
    {
      "cell_type": "code",
      "source": [
        "# Calculate improvements\n",
        "improve_reloc = ((total_length - improved_cost_reloc) / total_length) * 100\n",
        "improve_2opt = ((total_length_NN - improved_cost_2opt) / total_length_NN) * 100\n",
        "\n",
        "print(\"\\n Final Comparison Table (Part B):\")\n",
        "print(\"{:<45} {:<10} {:<10} {:<12}\".format(\"Combination\", \"Cost\", \"% Improve\", \"Time (s)\"))\n",
        "print(\"_\" * 80)\n",
        "print(\"{:<45} {:<10.2f} {:<10.2f} {:<12.4f}\".format(\"RFCS + Christofides\", total_length, 0.00, runtime_RFCS_C))\n",
        "print(\"{:<45} {:<10.2f} {:<10.2f} {:<12.4f}\".format(\"RFCS + Christofides + Relocate\", improved_cost_reloc, improve_reloc, runtime_RFCS_C + runtime_RFCS_relocate))\n",
        "print(\"{:<45} {:<10.2f} {:<10.2f} {:<12.4f}\".format(\"RFCS + Nearest Neighbor\", total_length_NN, 0.00, runtime_RFCS_NN))\n",
        "print(\"{:<45} {:<10.2f} {:<10.2f} {:<12.4f}\".format(\"RFCS + Nearest Neighbor + 2-opt\", improved_cost_2opt, improve_2opt, runtime_RFCS_NN + runtime_RFCS_twoopt))\n"
      ],
      "metadata": {
        "colab": {
          "base_uri": "https://localhost:8080/"
        },
        "id": "SUx1PJZAYqap",
        "outputId": "2edb88fd-f23d-4b4d-c87b-7b5903219ee8"
      },
      "execution_count": 104,
      "outputs": [
        {
          "output_type": "stream",
          "name": "stdout",
          "text": [
            "\n",
            " Final Comparison Table (Part B):\n",
            "Combination                                   Cost       % Improve  Time (s)    \n",
            "________________________________________________________________________________\n",
            "RFCS + Christofides                           106118215.32 0.00       0.0135      \n",
            "RFCS + Christofides + Relocate                103949916.89 2.04       0.0159      \n",
            "RFCS + Nearest Neighbor                       101142323.85 0.00       0.0020      \n",
            "RFCS + Nearest Neighbor + 2-opt               100962383.69 0.18       0.0039      \n"
          ]
        }
      ]
    }
  ]
}