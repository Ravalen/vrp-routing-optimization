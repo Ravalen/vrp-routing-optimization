{
  "nbformat": 4,
  "nbformat_minor": 0,
  "metadata": {
    "colab": {
      "provenance": []
    },
    "kernelspec": {
      "name": "python3",
      "display_name": "Python 3"
    },
    "language_info": {
      "name": "python"
    }
  },
  "cells": [
    {
      "cell_type": "code",
      "source": [
        "!pip install gurobipy"
      ],
      "metadata": {
        "colab": {
          "base_uri": "https://localhost:8080/"
        },
        "id": "mGOFHjymnPRm",
        "outputId": "60cd8749-5278-41a7-8141-7510c7fcf8db"
      },
      "execution_count": 19,
      "outputs": [
        {
          "output_type": "stream",
          "name": "stdout",
          "text": [
            "Requirement already satisfied: gurobipy in /usr/local/lib/python3.11/dist-packages (12.0.2)\n"
          ]
        }
      ]
    },
    {
      "cell_type": "code",
      "execution_count": 20,
      "metadata": {
        "id": "HWLGRR3zkSzB"
      },
      "outputs": [],
      "source": [
        "import numpy as np\n",
        "import pandas as pd\n",
        "import math\n",
        "import time\n",
        "from gurobipy import *\n"
      ]
    },
    {
      "cell_type": "code",
      "source": [
        "df_demands = pd.read_excel(\"Spring25Project_Data.xlsx\", sheet_name='demands')\n",
        "df_coordinates = pd.read_excel(\"Spring25Project_Data.xlsx\", sheet_name='coordinates')\n",
        "\n",
        "coordinates = df_coordinates[['x-coordinate', 'y-coordinate']].values\n",
        "demands = df_demands['Demand'].values\n"
      ],
      "metadata": {
        "id": "y4WXqJQekbTY"
      },
      "execution_count": 21,
      "outputs": []
    },
    {
      "cell_type": "code",
      "source": [
        "mean_lat = df_coordinates[\"y-coordinate\"].mean()\n",
        "meters_per_deg_lat = 111320\n",
        "meters_per_deg_lon = 111320 * math.cos(math.radians(mean_lat))\n",
        "df_coordinates[\"x_m\"] = (df_coordinates[\"x-coordinate\"] - df_coordinates[\"x-coordinate\"].min()) * meters_per_deg_lon\n",
        "df_coordinates[\"y_m\"] = (df_coordinates[\"y-coordinate\"] - df_coordinates[\"y-coordinate\"].min()) * meters_per_deg_lat\n",
        "coords_m = df_coordinates[['x_m', 'y_m']].values"
      ],
      "metadata": {
        "id": "CQmoh_7ApORi"
      },
      "execution_count": 22,
      "outputs": []
    },
    {
      "cell_type": "code",
      "source": [
        "import math\n",
        "\n",
        "lat = df_coordinates[\"y-coordinate\"]\n",
        "lon = df_coordinates[\"x-coordinate\"]\n",
        "\n",
        "# Calculate the average latitude\n",
        "mean_lat = lat.mean()\n",
        "\n",
        "# 1 degree of latitude is approximately 111320 meters\n",
        "meters_per_deg_lat = 111320\n",
        "\n",
        "# 1 degree of longitude is approximately 111320 * cos(average latitude) meters\n",
        "meters_per_deg_lon = 111320 * math.cos(math.radians(mean_lat))\n",
        "\n",
        "# Transform coordinates relative to a reference point\n",
        "df_coordinates[\"x_m\"] = (lon - lon.min()) * meters_per_deg_lon\n",
        "df_coordinates[\"y_m\"] = (lat - lat.min()) * meters_per_deg_lat\n",
        "\n",
        "# Convert the transformed coordinates (in meters) to a numpy array\n",
        "coords_m = df_coordinates[['x_m', 'y_m']].values\n",
        "\n",
        "# Compute the distance matrix using numpy broadcasting\n",
        "d = np.sqrt(((coords_m[:, None, :] - coords_m[None, :, :]) ** 2).sum(axis=2))\n",
        "\n"
      ],
      "metadata": {
        "id": "FIV7WfUMnc1w"
      },
      "execution_count": 23,
      "outputs": []
    },
    {
      "cell_type": "code",
      "source": [
        "d = np.sqrt(((coords_m[:, None, :] - coords_m[None, :, :]) ** 2).sum(axis=2))\n",
        "dist = d.tolist()"
      ],
      "metadata": {
        "id": "6dgTaXhgpaJy"
      },
      "execution_count": 24,
      "outputs": []
    },
    {
      "cell_type": "code",
      "source": [
        "nodes = list(range(len(coords_m)))\n",
        "demand = demands\n",
        "veh_cap = 85\n",
        "k = math.ceil(sum(demand) / veh_cap)\n",
        "\n",
        "print(f\"Total demand: {sum(demand)}\")\n",
        "print(f\"Vehicle capacity: {veh_cap}\")\n",
        "print(f\"Estimated number of vehicles: {k}\")\n"
      ],
      "metadata": {
        "colab": {
          "base_uri": "https://localhost:8080/"
        },
        "id": "xwIZ2dvqpc1d",
        "outputId": "badb4f23-b4a7-4522-8fc8-7cab21f0dbda"
      },
      "execution_count": 25,
      "outputs": [
        {
          "output_type": "stream",
          "name": "stdout",
          "text": [
            "Total demand: 526\n",
            "Vehicle capacity: 85\n",
            "Estimated number of vehicles: 7\n"
          ]
        }
      ]
    },
    {
      "cell_type": "code",
      "source": [
        "# Create model\n",
        "vrp = Model(\"vrp_model\")"
      ],
      "metadata": {
        "colab": {
          "base_uri": "https://localhost:8080/"
        },
        "id": "RRCBl6UboB36",
        "outputId": "0838ad2b-fb06-41b5-8f3c-aceeebe57e83"
      },
      "execution_count": 26,
      "outputs": [
        {
          "output_type": "stream",
          "name": "stdout",
          "text": [
            "Restricted license - for non-production use only - expires 2026-11-23\n"
          ]
        }
      ]
    },
    {
      "cell_type": "code",
      "source": [
        "#Create variables\n",
        "x = vrp.addVars(nodes, nodes, vtype=GRB.BINARY, name=\"x\")\n",
        "u = vrp.addVars(nodes, vtype=GRB.INTEGER, name=\"u\")"
      ],
      "metadata": {
        "id": "654GCdMwoDDd"
      },
      "execution_count": 27,
      "outputs": []
    },
    {
      "cell_type": "code",
      "source": [
        "#Add constraint\n",
        "vrp.addConstrs(((quicksum(x[i,j] for j in nodes if j != i) == 1) for i in nodes if i != 0), name = '1'); #outflow\n",
        "vrp.addConstrs(((quicksum(x[i,j] for i in nodes if i != j) == 1) for j in nodes if j != 0), name = '2'); #inflow\n",
        "vrp.addConstr(((quicksum(x[0,j] for j in nodes) == k)), name = '3'); #depot out\n",
        "vrp.addConstr(((quicksum(x[i,0] for i in nodes) == k)), name = '4'); #depot in\n",
        "vrp.addConstrs(((u[i] - u[j] + veh_cap*x[i,j] <= veh_cap - demand[j]) for i in nodes for j in nodes if i!=j and i != 0 and j != 0), name = '5'); #mtz subtour\n",
        "vrp.addConstrs(((u[i] <= veh_cap) for i in nodes), name = '6'); #max cap\n",
        "vrp.addConstrs(((u[i] >= demand[i]) for i in nodes), name = '7'); #min demand"
      ],
      "metadata": {
        "id": "8ppUWcBHoHd6"
      },
      "execution_count": 28,
      "outputs": []
    },
    {
      "cell_type": "code",
      "source": [
        "# Set objective function\n",
        "vrp.setObjective(quicksum(dist[i][j] * x[i,j] for i in nodes for j in nodes if i != j), GRB.MINIMIZE)\n",
        "vrp.setParam(\"TimeLimit\", 900) #time limit for 15minutes"
      ],
      "metadata": {
        "colab": {
          "base_uri": "https://localhost:8080/"
        },
        "id": "SrISyMKyqIUp",
        "outputId": "6d1f5f12-d066-44c8-e03b-faf320e96ed7"
      },
      "execution_count": 29,
      "outputs": [
        {
          "output_type": "stream",
          "name": "stdout",
          "text": [
            "Set parameter TimeLimit to value 900\n"
          ]
        }
      ]
    },
    {
      "cell_type": "code",
      "source": [
        "# Solve\n",
        "start_time = time.time()\n",
        "vrp.optimize()\n",
        "runtime_gurobi = time.time() - start_time"
      ],
      "metadata": {
        "colab": {
          "base_uri": "https://localhost:8080/"
        },
        "id": "I4auCV96qRBF",
        "outputId": "33ba3ff7-e1ff-439b-d90a-4408ae98e5ce"
      },
      "execution_count": 30,
      "outputs": [
        {
          "output_type": "stream",
          "name": "stdout",
          "text": [
            "Gurobi Optimizer version 12.0.2 build v12.0.2rc0 (linux64 - \"Ubuntu 22.04.4 LTS\")\n",
            "\n",
            "CPU model: Intel(R) Xeon(R) CPU @ 2.20GHz, instruction set [SSE2|AVX|AVX2]\n",
            "Thread count: 1 physical cores, 2 logical processors, using up to 2 threads\n",
            "\n",
            "Non-default parameters:\n",
            "TimeLimit  900\n",
            "\n",
            "Optimize a model with 1562 rows, 1560 columns and 7262 nonzeros\n",
            "Model fingerprint: 0x790f4df0\n",
            "Variable types: 0 continuous, 1560 integer (1521 binary)\n",
            "Coefficient statistics:\n",
            "  Matrix range     [1e+00, 8e+01]\n",
            "  Objective range  [4e+05, 1e+07]\n",
            "  Bounds range     [1e+00, 1e+00]\n",
            "  RHS range        [1e+00, 8e+01]\n",
            "Presolve removed 110 rows and 71 columns\n",
            "Presolve time: 0.04s\n",
            "Presolved: 1452 rows, 1489 columns, 7024 nonzeros\n",
            "Variable types: 0 continuous, 1489 integer (1451 binary)\n",
            "\n",
            "Root relaxation: objective 5.025557e+07, 144 iterations, 0.01 seconds (0.00 work units)\n",
            "\n",
            "    Nodes    |    Current Node    |     Objective Bounds      |     Work\n",
            " Expl Unexpl |  Obj  Depth IntInf | Incumbent    BestBd   Gap | It/Node Time\n",
            "\n",
            "     0     0 5.0256e+07    0   77          - 5.0256e+07      -     -    0s\n",
            "     0     0 5.5469e+07    0  102          - 5.5469e+07      -     -    0s\n",
            "     0     0 5.5516e+07    0  105          - 5.5516e+07      -     -    0s\n",
            "     0     0 5.5587e+07    0  108          - 5.5587e+07      -     -    0s\n",
            "     0     0 5.6517e+07    0  107          - 5.6517e+07      -     -    0s\n",
            "     0     0 5.6735e+07    0  104          - 5.6735e+07      -     -    0s\n",
            "     0     0 5.6778e+07    0  104          - 5.6778e+07      -     -    0s\n",
            "     0     0 5.6793e+07    0  105          - 5.6793e+07      -     -    0s\n",
            "     0     0 5.6797e+07    0  105          - 5.6797e+07      -     -    0s\n",
            "     0     0 5.6801e+07    0  107          - 5.6801e+07      -     -    0s\n",
            "     0     0 5.7320e+07    0   99          - 5.7320e+07      -     -    0s\n",
            "     0     0 5.7384e+07    0   93          - 5.7384e+07      -     -    0s\n",
            "     0     0 5.7384e+07    0   83          - 5.7384e+07      -     -    0s\n",
            "     0     0 5.7384e+07    0   87          - 5.7384e+07      -     -    0s\n",
            "     0     0 5.7390e+07    0   87          - 5.7390e+07      -     -    0s\n",
            "     0     0 5.7390e+07    0   97          - 5.7390e+07      -     -    0s\n",
            "     0     0 5.7420e+07    0   90          - 5.7420e+07      -     -    0s\n",
            "     0     0 5.7426e+07    0  100          - 5.7426e+07      -     -    0s\n",
            "     0     0 5.7426e+07    0  100          - 5.7426e+07      -     -    0s\n",
            "     0     0 5.7990e+07    0   79          - 5.7990e+07      -     -    1s\n",
            "     0     0 5.7990e+07    0   84          - 5.7990e+07      -     -    1s\n",
            "     0     0 5.7990e+07    0   91          - 5.7990e+07      -     -    1s\n",
            "     0     0 5.7990e+07    0   85          - 5.7990e+07      -     -    1s\n",
            "     0     0 5.7990e+07    0   80          - 5.7990e+07      -     -    1s\n",
            "     0     0 5.7990e+07    0   89          - 5.7990e+07      -     -    1s\n",
            "     0     0 5.7990e+07    0   78          - 5.7990e+07      -     -    1s\n",
            "     0     0 5.8095e+07    0   77          - 5.8095e+07      -     -    1s\n",
            "     0     2 5.8276e+07    0   75          - 5.8276e+07      -     -    1s\n",
            "H  521   483                    1.135719e+08 5.8276e+07  48.7%   9.8    5s\n",
            "H  524   461                    1.089254e+08 5.8361e+07  46.4%   9.7    6s\n",
            "H  524   437                    1.081608e+08 5.8361e+07  46.0%   9.7    6s\n",
            "H  524   415                    1.071670e+08 5.8361e+07  45.5%   9.7    6s\n",
            "H  524   395                    1.067648e+08 5.8361e+07  45.3%   9.7    6s\n",
            "H  524   375                    1.058819e+08 5.8361e+07  44.9%   9.7    6s\n",
            "H  524   356                    1.053806e+08 5.8361e+07  44.6%   9.7    6s\n",
            "H  524   338                    1.049699e+08 5.8361e+07  44.4%   9.7    6s\n",
            "H  524   321                    1.049588e+08 5.8361e+07  44.4%   9.7    6s\n",
            "H  526   307                    1.040796e+08 5.8530e+07  43.8%   9.7    7s\n",
            "   544   319 9.3271e+07  290   85 1.0408e+08 5.8642e+07  43.7%   9.3   10s\n",
            "H  571   318                    1.040752e+08 5.8642e+07  43.7%  14.3   11s\n",
            "H  571   303                    1.006978e+08 5.8642e+07  41.8%  14.3   11s\n",
            "H  571   288                    9.995178e+07 5.8642e+07  41.3%  14.3   11s\n",
            "H  596   290                    9.976982e+07 5.8642e+07  41.2%  16.1   12s\n",
            "H  622   295                    9.743387e+07 5.8642e+07  39.8%  17.1   12s\n",
            "   664   325 7.3672e+07   70   62 9.7434e+07 5.8642e+07  39.8%  17.5   15s\n",
            "H  688   324                    9.645710e+07 5.8642e+07  39.2%  17.6   15s\n",
            "H 1195   606                    9.334254e+07 5.8642e+07  37.2%  24.2   19s\n",
            "  1288   698 6.7479e+07   59   85 9.3343e+07 5.8642e+07  37.2%  25.9   20s\n",
            "H 1324   696                    9.075543e+07 5.8642e+07  35.4%  26.6   20s\n",
            "  1607   955 7.1509e+07  103   89 9.0755e+07 5.8642e+07  35.4%  29.4   25s\n",
            "  2300  1563 8.9565e+07   95   59 9.0755e+07 5.8642e+07  35.4%  32.8   30s\n",
            "  2886  2073 8.2473e+07  103   73 9.0755e+07 5.8642e+07  35.4%  32.9   35s\n",
            "  3598  2711 8.2038e+07   74   73 9.0755e+07 5.8718e+07  35.3%  31.6   40s\n",
            "  4587  3582 8.7816e+07  145   98 9.0755e+07 5.8745e+07  35.3%  31.6   45s\n",
            "  5153  4071 5.9047e+07   18   97 9.0755e+07 5.8847e+07  35.2%  31.1   50s\n",
            "  6636  5387 7.3550e+07   54   86 9.0755e+07 5.9002e+07  35.0%  30.5   55s\n",
            "  7990  6552 6.6263e+07   32   77 9.0755e+07 5.9102e+07  34.9%  29.8   60s\n",
            "  9042  7433 7.2654e+07   41   97 9.0755e+07 5.9155e+07  34.8%  29.9   65s\n",
            " 10203  8447 8.5370e+07  103   77 9.0755e+07 5.9266e+07  34.7%  29.9   77s\n",
            " 10212  8453 7.2326e+07   81   93 9.0755e+07 5.9266e+07  34.7%  29.9   80s\n",
            " 10220  8458 6.3188e+07   29  112 9.0755e+07 5.9266e+07  34.7%  29.9   85s\n",
            " 10224  8461 7.7913e+07   91   97 9.0755e+07 5.9266e+07  34.7%  29.9   90s\n",
            " 10234  8468 7.9304e+07   79   80 9.0755e+07 5.9266e+07  34.7%  29.9   95s\n",
            " 10242  8473 7.0545e+07   80  114 9.0755e+07 5.9266e+07  34.7%  29.8  101s\n",
            "H10297  8085                    9.064434e+07 5.9266e+07  34.6%  30.1  103s\n",
            " 10330  8109 7.7438e+07   64   78 9.0644e+07 5.9266e+07  34.6%  30.2  105s\n",
            " 10503  8204 8.4736e+07   82   72 9.0644e+07 5.9266e+07  34.6%  30.4  110s\n",
            " 10760  8331 7.0439e+07   40   82 9.0644e+07 5.9266e+07  34.6%  30.8  115s\n",
            " 10997  8464 6.6663e+07   60   88 9.0644e+07 5.9266e+07  34.6%  31.1  120s\n",
            "H11518  8345                    9.034121e+07 5.9266e+07  34.4%  31.9  125s\n",
            " 12137  8648 6.5016e+07   38   87 9.0341e+07 5.9266e+07  34.4%  32.2  130s\n",
            " 13029  9121 5.9450e+07   25   96 9.0341e+07 5.9266e+07  34.4%  32.3  135s\n",
            "H13385  8900                    9.033458e+07 5.9266e+07  34.4%  32.3  137s\n",
            "H13385  8530                    9.013590e+07 5.9266e+07  34.2%  32.3  138s\n",
            " 13763  8737 5.9425e+07   25   82 9.0136e+07 5.9266e+07  34.2%  32.1  140s\n",
            "H15063  9033                    8.967314e+07 5.9338e+07  33.8%  32.0  144s\n",
            " 15083  9048 7.9354e+07  119   91 8.9673e+07 5.9338e+07  33.8%  32.0  145s\n",
            " 15982  9504 6.7353e+07   38   93 8.9673e+07 5.9413e+07  33.7%  32.3  150s\n",
            "H16886  9601                    8.924825e+07 5.9458e+07  33.4%  32.2  154s\n",
            "H16886  9235                    8.881864e+07 5.9458e+07  33.1%  32.2  154s\n",
            " 16928  9265 8.0316e+07   73   78 8.8819e+07 5.9458e+07  33.1%  32.2  155s\n",
            " 17732  9693 6.6532e+07   43   78 8.8819e+07 5.9520e+07  33.0%  32.2  160s\n",
            " 18752 10191     cutoff  103      8.8819e+07 5.9610e+07  32.9%  32.4  165s\n",
            "H19669 10244                    8.806671e+07 5.9654e+07  32.3%  32.6  169s\n",
            "H19669  9871                    8.750830e+07 5.9654e+07  31.8%  32.6  170s\n",
            "H19669  9576                    8.739352e+07 5.9654e+07  31.7%  32.6  171s\n",
            " 19669  9578 7.4458e+07   45   69 8.7394e+07 5.9654e+07  31.7%  32.6  175s\n",
            " 20655 10097 8.3102e+07   87   72 8.7394e+07 5.9690e+07  31.7%  32.6  180s\n",
            " 21334 10428 7.5739e+07   59   65 8.7394e+07 5.9748e+07  31.6%  32.6  185s\n",
            " 22286 10911 6.9187e+07   45   71 8.7394e+07 5.9784e+07  31.6%  32.7  190s\n",
            " 23472 11511 7.1326e+07   55   97 8.7394e+07 5.9889e+07  31.5%  32.7  195s\n",
            " 24587 12041 7.4662e+07   83   87 8.7394e+07 5.9926e+07  31.4%  32.6  200s\n",
            " 25351 12411 6.0276e+07   29  112 8.7394e+07 5.9949e+07  31.4%  32.5  205s\n",
            " 26056 12962 8.5097e+07  113   97 8.7394e+07 5.9983e+07  31.4%  32.6  210s\n",
            " 27178 13869 7.9861e+07   68   92 8.7394e+07 6.0028e+07  31.3%  32.6  215s\n",
            " 28339 14819 7.0100e+07   48   93 8.7394e+07 6.0079e+07  31.3%  32.7  220s\n",
            " 29416 15692 6.7135e+07   35  102 8.7394e+07 6.0117e+07  31.2%  32.8  225s\n",
            " 30480 16575 7.7023e+07   62   80 8.7394e+07 6.0153e+07  31.2%  32.8  230s\n",
            " 31506 17427 7.6588e+07   83   82 8.7394e+07 6.0196e+07  31.1%  32.9  235s\n",
            " 32028 17850 8.1753e+07   77   77 8.7394e+07 6.0211e+07  31.1%  32.9  240s\n",
            " 33133 18756 6.9730e+07   56   90 8.7394e+07 6.0243e+07  31.1%  33.0  245s\n",
            " 34331 19736 6.8968e+07   46   95 8.7394e+07 6.0271e+07  31.0%  33.0  250s\n",
            " 35456 20668 7.8290e+07   59   66 8.7394e+07 6.0310e+07  31.0%  33.1  255s\n",
            " 36465 21486 6.9361e+07   53   77 8.7394e+07 6.0349e+07  30.9%  33.2  260s\n",
            " 37508 22356 6.7588e+07   37   83 8.7394e+07 6.0369e+07  30.9%  33.3  265s\n",
            " 38554 23215 8.6416e+07  116   74 8.7394e+07 6.0395e+07  30.9%  33.3  270s\n",
            " 39649 24100 7.6569e+07   83   98 8.7394e+07 6.0420e+07  30.9%  33.4  275s\n",
            " 40702 24971 8.3011e+07   83   77 8.7394e+07 6.0447e+07  30.8%  33.4  280s\n",
            " 41767 25819 8.3520e+07  105   74 8.7394e+07 6.0469e+07  30.8%  33.5  285s\n",
            " 42754 26658 7.8201e+07   88   85 8.7394e+07 6.0488e+07  30.8%  33.5  290s\n",
            " 43836 27521 7.6742e+07   61   76 8.7394e+07 6.0503e+07  30.8%  33.5  295s\n",
            " 44985 28433 6.3512e+07   32   80 8.7394e+07 6.0533e+07  30.7%  33.6  300s\n",
            "H45227 28483                    8.694730e+07 6.0535e+07  30.4%  33.6  308s\n",
            " 45276 28526 7.1848e+07   70   97 8.6947e+07 6.0536e+07  30.4%  33.6  310s\n",
            " 46191 29283 7.9398e+07   67   86 8.6947e+07 6.0563e+07  30.3%  33.6  315s\n",
            " 47325 30203 8.4563e+07  110  102 8.6947e+07 6.0584e+07  30.3%  33.6  320s\n",
            " 48418 31078 7.0537e+07   50   86 8.6947e+07 6.0611e+07  30.3%  33.7  325s\n",
            " 49360 31857 8.6324e+07   74   80 8.6947e+07 6.0621e+07  30.3%  33.8  330s\n",
            " 50408 32706 7.3726e+07   51   77 8.6947e+07 6.0642e+07  30.3%  33.8  335s\n",
            " 51335 33419 6.8380e+07   46   81 8.6947e+07 6.0661e+07  30.2%  33.8  340s\n",
            " 52440 34308 7.9419e+07   60   73 8.6947e+07 6.0686e+07  30.2%  33.9  345s\n",
            " 53604 35216 6.1017e+07   33   87 8.6947e+07 6.0704e+07  30.2%  34.0  350s\n",
            " 54547 36007 8.6735e+07   96   87 8.6947e+07 6.0717e+07  30.2%  34.0  355s\n",
            " 55613 36881 7.3734e+07   52   83 8.6947e+07 6.0737e+07  30.1%  34.1  360s\n",
            " 56478 37609 8.4521e+07   90   59 8.6947e+07 6.0748e+07  30.1%  34.1  365s\n",
            " 57506 38429 6.4915e+07   34  101 8.6947e+07 6.0771e+07  30.1%  34.2  370s\n",
            " 58723 39402 8.6525e+07   83   76 8.6947e+07 6.0786e+07  30.1%  34.3  375s\n",
            " 59572 40120 8.0223e+07   89   82 8.6947e+07 6.0791e+07  30.1%  34.3  380s\n",
            " 60705 41003 7.7166e+07   73   95 8.6947e+07 6.0809e+07  30.1%  34.4  385s\n",
            " 61482 41614 7.0863e+07   48   77 8.6947e+07 6.0818e+07  30.1%  34.4  390s\n",
            " 62509 42441 6.4079e+07   32   92 8.6947e+07 6.0841e+07  30.0%  34.4  395s\n",
            " 63531 43254 6.2628e+07   39   90 8.6947e+07 6.0857e+07  30.0%  34.5  400s\n",
            "H64358 43654                    8.652761e+07 6.0871e+07  29.7%  34.5  404s\n",
            " 64358 43656 8.2918e+07   51   74 8.6528e+07 6.0871e+07  29.7%  34.5  405s\n",
            " 65165 44293 7.9448e+07   67   80 8.6528e+07 6.0882e+07  29.6%  34.5  410s\n",
            " 66098 45020 8.2428e+07   39   66 8.6528e+07 6.0898e+07  29.6%  34.6  415s\n",
            " 66992 45763 6.3734e+07   38   97 8.6528e+07 6.0910e+07  29.6%  34.6  420s\n",
            " 68062 46616 6.8617e+07   53   82 8.6528e+07 6.0925e+07  29.6%  34.7  425s\n",
            " 68756 47195 7.4618e+07   36   83 8.6528e+07 6.0934e+07  29.6%  34.7  430s\n",
            " 69871 48050 7.3970e+07   49   90 8.6528e+07 6.0958e+07  29.6%  34.7  435s\n",
            " 70875 48850 6.3451e+07   42   87 8.6528e+07 6.0970e+07  29.5%  34.7  440s\n",
            " 71829 49626 6.9519e+07   48   84 8.6528e+07 6.0980e+07  29.5%  34.8  445s\n",
            " 72879 50460 7.9734e+07   64   77 8.6528e+07 6.0995e+07  29.5%  34.8  450s\n",
            " 73483 50909 7.1212e+07   46  101 8.6528e+07 6.1000e+07  29.5%  34.8  455s\n",
            " 74294 51578 6.4927e+07   35   81 8.6528e+07 6.1010e+07  29.5%  34.9  460s\n",
            " 75263 52347 8.3240e+07   58   96 8.6528e+07 6.1023e+07  29.5%  34.9  465s\n",
            " 76238 53145 7.5971e+07   56   75 8.6528e+07 6.1036e+07  29.5%  34.9  470s\n",
            " 77242 53929 7.7327e+07   76   97 8.6528e+07 6.1046e+07  29.4%  35.0  475s\n",
            " 77988 54534 7.0906e+07   53   81 8.6528e+07 6.1053e+07  29.4%  35.0  480s\n",
            " 78941 55297 6.9688e+07   44   78 8.6528e+07 6.1065e+07  29.4%  35.0  485s\n",
            " 79880 56041 8.3893e+07   94   80 8.6528e+07 6.1076e+07  29.4%  35.1  490s\n",
            " 80774 56756 7.4003e+07   72   79 8.6528e+07 6.1089e+07  29.4%  35.1  495s\n",
            " 81616 57432 8.5497e+07   97   65 8.6528e+07 6.1101e+07  29.4%  35.1  500s\n",
            " 82457 58113 7.1437e+07   50   80 8.6528e+07 6.1112e+07  29.4%  35.1  505s\n",
            " 83522 58979 8.0780e+07   54   97 8.6528e+07 6.1123e+07  29.4%  35.2  510s\n",
            " 84463 59722 7.1944e+07   57   82 8.6528e+07 6.1131e+07  29.4%  35.2  515s\n",
            " 85275 60371 8.4923e+07   41   73 8.6528e+07 6.1140e+07  29.3%  35.2  520s\n",
            " 85881 60817 6.1389e+07   29   89 8.6528e+07 6.1148e+07  29.3%  35.2  525s\n",
            " 86682 61436 7.2443e+07   48   83 8.6528e+07 6.1153e+07  29.3%  35.3  530s\n",
            " 87623 62167 6.1997e+07   32   94 8.6528e+07 6.1162e+07  29.3%  35.3  535s\n",
            " 88605 62944 8.5920e+07   57   94 8.6528e+07 6.1174e+07  29.3%  35.3  540s\n",
            " 89221 63417 7.6943e+07   47   80 8.6528e+07 6.1182e+07  29.3%  35.3  545s\n",
            " 90284 64270 7.0470e+07   41   89 8.6528e+07 6.1192e+07  29.3%  35.3  550s\n",
            " 91096 64913 7.9138e+07   56   83 8.6528e+07 6.1201e+07  29.3%  35.3  555s\n",
            " 92053 65659 8.6070e+07  108   82 8.6528e+07 6.1213e+07  29.3%  35.4  560s\n",
            " 93058 66470 8.0536e+07   46   67 8.6528e+07 6.1222e+07  29.2%  35.4  565s\n",
            " 93866 67135 7.4858e+07   47   91 8.6528e+07 6.1228e+07  29.2%  35.4  570s\n",
            " 94802 67898 7.8181e+07   60   81 8.6528e+07 6.1240e+07  29.2%  35.5  575s\n",
            " 95712 68600 7.7724e+07   59   79 8.6528e+07 6.1248e+07  29.2%  35.5  580s\n",
            " 96723 69431     cutoff   49      8.6528e+07 6.1259e+07  29.2%  35.5  585s\n",
            " 97298 69877 7.9380e+07   52   79 8.6528e+07 6.1262e+07  29.2%  35.6  590s\n",
            " 98067 70501 8.3250e+07   57   74 8.6528e+07 6.1270e+07  29.2%  35.6  595s\n",
            " 99093 71294 6.5808e+07   31   99 8.6528e+07 6.1280e+07  29.2%  35.6  600s\n",
            " 100036 72038 7.3771e+07   43  105 8.6528e+07 6.1290e+07  29.2%  35.6  605s\n",
            " 100954 72753 8.2146e+07   66   95 8.6528e+07 6.1301e+07  29.2%  35.6  610s\n",
            " 101946 73553 6.1720e+07   32   81 8.6528e+07 6.1310e+07  29.1%  35.6  615s\n",
            " 102682 74141 8.2947e+07   81   69 8.6528e+07 6.1316e+07  29.1%  35.6  620s\n",
            " 103601 74882 7.6601e+07   57   83 8.6528e+07 6.1323e+07  29.1%  35.7  625s\n",
            " 104469 75567 8.5885e+07   82   66 8.6528e+07 6.1330e+07  29.1%  35.7  630s\n",
            " 104915 75947 8.4628e+07   74   69 8.6528e+07 6.1333e+07  29.1%  35.7  635s\n",
            " 105269 76229 6.2265e+07   30   90 8.6528e+07 6.1336e+07  29.1%  35.7  640s\n",
            " 106063 76822 6.2139e+07   33   86 8.6528e+07 6.1344e+07  29.1%  35.7  645s\n",
            " 107045 77572 6.9410e+07   42   95 8.6528e+07 6.1357e+07  29.1%  35.8  650s\n",
            " 107907 78283 7.9365e+07  107   79 8.6528e+07 6.1362e+07  29.1%  35.8  655s\n",
            " 108838 79005 8.0048e+07   75   76 8.6528e+07 6.1370e+07  29.1%  35.8  660s\n",
            " 109931 79881 7.2766e+07   52   82 8.6528e+07 6.1385e+07  29.1%  35.8  665s\n",
            " 110693 80504 7.2356e+07   45   68 8.6528e+07 6.1392e+07  29.0%  35.8  670s\n",
            " 111728 81327 7.4967e+07   62   93 8.6528e+07 6.1401e+07  29.0%  35.9  675s\n",
            " 112616 82043 6.3462e+07   32   92 8.6528e+07 6.1406e+07  29.0%  35.9  680s\n",
            " 113544 82755 7.2568e+07   56   71 8.6528e+07 6.1417e+07  29.0%  35.9  685s\n",
            " 114673 83646 8.1987e+07   71   89 8.6528e+07 6.1427e+07  29.0%  35.9  690s\n",
            " 114905 83814 7.2198e+07   49   94 8.6528e+07 6.1433e+07  29.0%  35.9  695s\n",
            " 116019 84686 6.7919e+07   43   79 8.6528e+07 6.1447e+07  29.0%  35.9  700s\n",
            " 117123 85576 8.0540e+07   66   85 8.6528e+07 6.1458e+07  29.0%  36.0  705s\n",
            " 117929 86211 6.5407e+07   39   88 8.6528e+07 6.1463e+07  29.0%  36.0  710s\n",
            " 119014 87064 8.5603e+07   96   93 8.6528e+07 6.1470e+07  29.0%  36.0  715s\n",
            " 119965 87794 8.1566e+07   88   76 8.6528e+07 6.1480e+07  28.9%  36.0  720s\n",
            " 121099 88669 6.1741e+07   36   90 8.6528e+07 6.1491e+07  28.9%  36.0  725s\n",
            " 122253 89609 infeasible   59      8.6528e+07 6.1501e+07  28.9%  36.0  730s\n",
            " 123130 90302 7.7587e+07   75   95 8.6528e+07 6.1505e+07  28.9%  36.1  735s\n",
            " 124198 91153 8.5800e+07   76   81 8.6528e+07 6.1513e+07  28.9%  36.1  740s\n",
            " 125163 91918 8.1391e+07   83   92 8.6528e+07 6.1520e+07  28.9%  36.1  745s\n",
            " 126140 92738 8.0902e+07   64   66 8.6528e+07 6.1530e+07  28.9%  36.1  750s\n",
            " 127118 93497 8.0423e+07   61   91 8.6528e+07 6.1536e+07  28.9%  36.1  755s\n",
            " 127943 94147 8.2473e+07   77  105 8.6528e+07 6.1543e+07  28.9%  36.2  760s\n",
            " 129072 94999 8.0112e+07   55   68 8.6528e+07 6.1551e+07  28.9%  36.2  765s\n",
            " 130020 95724 6.6734e+07   52   95 8.6528e+07 6.1555e+07  28.9%  36.2  770s\n",
            " 131178 96587 7.7261e+07   72   97 8.6528e+07 6.1562e+07  28.9%  36.2  775s\n",
            " 132244 97418 6.1756e+07   33   96 8.6528e+07 6.1569e+07  28.8%  36.2  780s\n",
            " 132936 97965 6.4729e+07   34   80 8.6528e+07 6.1578e+07  28.8%  36.2  785s\n",
            " 133886 98723 7.1275e+07   41   82 8.6528e+07 6.1585e+07  28.8%  36.3  790s\n",
            " 134755 99424 6.8029e+07   44   85 8.6528e+07 6.1592e+07  28.8%  36.3  795s\n",
            " 135814 100261 8.6148e+07   69   81 8.6528e+07 6.1598e+07  28.8%  36.3  800s\n",
            " 136975 101126 8.4105e+07   79   58 8.6528e+07 6.1606e+07  28.8%  36.3  805s\n",
            " 137812 101762 6.9344e+07   43   84 8.6528e+07 6.1613e+07  28.8%  36.3  810s\n",
            " 138995 102729 6.4758e+07   39   91 8.6528e+07 6.1622e+07  28.8%  36.3  815s\n",
            " 139983 103513 7.9225e+07   73   86 8.6528e+07 6.1627e+07  28.8%  36.3  820s\n",
            " 140890 104194 8.2491e+07   67   90 8.6528e+07 6.1630e+07  28.8%  36.4  825s\n",
            " 141843 104970 7.3539e+07   48   89 8.6528e+07 6.1636e+07  28.8%  36.4  830s\n",
            " 142620 105574 8.4678e+07   64   76 8.6528e+07 6.1641e+07  28.8%  36.4  835s\n",
            " 143680 106395 7.6852e+07   40   67 8.6528e+07 6.1652e+07  28.7%  36.5  840s\n",
            " 144622 107114 6.7378e+07   32   74 8.6528e+07 6.1657e+07  28.7%  36.5  845s\n",
            " 145719 107961 6.2556e+07   29   94 8.6528e+07 6.1665e+07  28.7%  36.5  850s\n",
            " 146760 108764 8.1321e+07   74   72 8.6528e+07 6.1672e+07  28.7%  36.5  855s\n",
            " 147697 109480 7.8169e+07   59   79 8.6528e+07 6.1677e+07  28.7%  36.5  860s\n",
            " 148633 110204 7.0806e+07   46   92 8.6528e+07 6.1684e+07  28.7%  36.5  865s\n",
            " 149440 110851 8.0566e+07   55   84 8.6528e+07 6.1691e+07  28.7%  36.6  870s\n",
            " 150480 111685 7.8181e+07   59   68 8.6528e+07 6.1697e+07  28.7%  36.6  875s\n",
            " 151626 112550 6.3381e+07   36   78 8.6528e+07 6.1707e+07  28.7%  36.6  880s\n",
            " 152542 113290 7.9001e+07   63   86 8.6528e+07 6.1713e+07  28.7%  36.6  885s\n",
            " 153447 114016 7.5357e+07   49   78 8.6528e+07 6.1720e+07  28.7%  36.6  890s\n",
            " 154415 114749 8.3312e+07   79   78 8.6528e+07 6.1728e+07  28.7%  36.6  895s\n",
            "\n",
            "Cutting planes:\n",
            "  Learned: 10\n",
            "  Gomory: 30\n",
            "  Cover: 61\n",
            "  Implied bound: 75\n",
            "  Projected implied bound: 17\n",
            "  Clique: 6\n",
            "  MIR: 274\n",
            "  Mixing: 8\n",
            "  StrongCG: 106\n",
            "  Flow cover: 468\n",
            "  GUB cover: 1\n",
            "  Inf proof: 9\n",
            "  Zero half: 36\n",
            "  RLT: 1\n",
            "  Relax-and-lift: 31\n",
            "\n",
            "Explored 155470 nodes (5697029 simplex iterations) in 900.02 seconds (576.94 work units)\n",
            "Thread count was 2 (of 2 available processors)\n",
            "\n",
            "Solution count 10: 8.65276e+07 8.69473e+07 8.73935e+07 ... 9.03346e+07\n",
            "\n",
            "Time limit reached\n",
            "Best objective 8.652760739325e+07, best bound 6.173564067234e+07, gap 28.6521%\n"
          ]
        }
      ]
    },
    {
      "cell_type": "code",
      "source": [
        "# Solution\n",
        "solution = []\n",
        "if vrp.status == GRB.OPTIMAL or vrp.status == GRB.TIME_LIMIT:\n",
        "    selected = [(i, j) for i in nodes for j in nodes if i != j and x[i,j].X > 0.5]\n",
        "    routes = []\n",
        "    while selected:\n",
        "        route = [0]\n",
        "        while True:\n",
        "            for i, j in selected:\n",
        "                if i == route[-1]:\n",
        "                    route.append(j)\n",
        "                    selected.remove((i, j))\n",
        "                    break\n",
        "            else:\n",
        "                break\n",
        "        if route[-1] == 0:\n",
        "            routes.append(route)\n",
        "\n",
        "    print(\"\\nOptimal routes:\")\n",
        "    for r in routes:\n",
        "        print(r)\n",
        "    print(f\"\\nTotal cost: {vrp.objVal:.2f}\")\n",
        "    print(f\"Runtime: {runtime_gurobi:.4f} seconds\")\n",
        "else:\n",
        "    print(\"No feasible solution found within the time limit.\")\n"
      ],
      "metadata": {
        "colab": {
          "base_uri": "https://localhost:8080/"
        },
        "id": "cR5bGuNWqYEY",
        "outputId": "73e83fe6-6457-4496-8f33-3fff4e806cc8"
      },
      "execution_count": 31,
      "outputs": [
        {
          "output_type": "stream",
          "name": "stdout",
          "text": [
            "\n",
            "Optimal routes:\n",
            "[0, 10, 16, 4, 2, 37, 0, 11, 36, 17, 23, 1, 6, 0, 13, 0, 24, 12, 38, 3, 15, 0, 26, 5, 9, 28, 29, 0, 30, 20, 32, 27, 34, 22, 18, 21, 0, 31, 14, 35, 25, 33, 19, 8, 7, 0]\n",
            "\n",
            "Total cost: 86527607.39\n",
            "Runtime: 900.0464 seconds\n"
          ]
        }
      ]
    },
    {
      "cell_type": "code",
      "source": [
        "print(\"\\n Final Gurobi Summary for Part C:\")\n",
        "print(\"{:<45} {:<12} {:<12}\".format(\"Method\", \"Cost\", \"Time (s)\"))\n",
        "print(\"_\" * 70)\n",
        "print(\"{:<45} {:<12.2f} {:<12.4f}\".format(\"Gurobi Optimal VRP Solution\", vrp.objVal, runtime_gurobi))\n"
      ],
      "metadata": {
        "colab": {
          "base_uri": "https://localhost:8080/"
        },
        "id": "Ixm4hzkc2BqV",
        "outputId": "dee4af5b-120c-4ffd-adb5-b3a4ccd442ff"
      },
      "execution_count": 76,
      "outputs": [
        {
          "output_type": "stream",
          "name": "stdout",
          "text": [
            "\n",
            " Final Gurobi Summary for Part C:\n",
            "Method                                        Cost         Time (s)    \n",
            "______________________________________________________________________\n",
            "Gurobi Optimal VRP Solution                   86527607.39  900.0464    \n"
          ]
        }
      ]
    },
    {
      "cell_type": "markdown",
      "source": [
        "# **Final Comparison**"
      ],
      "metadata": {
        "id": "LLsPvF6wwT5j"
      }
    },
    {
      "cell_type": "markdown",
      "source": [
        "The \"% vs Gurobi\" column indicates how much more expensive each method is compared to the Gurobi optimal solution.\n",
        "Lower values mean the method is closer to optimal.\n",
        "(For more info VRP_Final_Comparison.xlsx)\n"
      ],
      "metadata": {
        "id": "nD6opeHY9kYp"
      }
    },
    {
      "cell_type": "code",
      "source": [
        "#Load final comparison table from Excel file\n",
        "file_path = \"VRP_Final_Comparison.xlsx\"\n",
        "comparison_df = pd.read_excel(file_path)\n",
        "print(\"\\nFinal Comparison Table from VRP_Final_Comparison.xlsx:\")\n",
        "print(comparison_df)"
      ],
      "metadata": {
        "colab": {
          "base_uri": "https://localhost:8080/"
        },
        "id": "256UlSxg8ztw",
        "outputId": "6549799e-2c4d-4f7a-9003-7267518787cf"
      },
      "execution_count": 83,
      "outputs": [
        {
          "output_type": "stream",
          "name": "stdout",
          "text": [
            "\n",
            "Final Comparison Table from VRP_Final_Comparison.xlsx:\n",
            "                            Method          Cost  % Improve  Time (s)  \\\n",
            "0                CFRS + NN + 2-opt  1.115669e+08       0.32    0.4559   \n",
            "1           CFRS + NN + Relocation  1.062439e+08       5.07    0.4284   \n",
            "2   RFCS + Christofides + Relocate  1.039499e+08       2.04    0.0159   \n",
            "3  RFCS + Nearest Neighbor + 2-opt  1.009624e+08       0.18    0.0039   \n",
            "4      Gurobi Optimal VRP Solution  8.652761e+07        NaN  900.0464   \n",
            "\n",
            "   % vs Gurobi  \n",
            "0    22.443314  \n",
            "1    18.557614  \n",
            "2    16.760292  \n",
            "3    14.297183  \n",
            "4     0.000000  \n"
          ]
        },
        {
          "output_type": "stream",
          "name": "stderr",
          "text": [
            "/usr/local/lib/python3.11/dist-packages/openpyxl/worksheet/_reader.py:329: UserWarning: Unknown extension is not supported and will be removed\n",
            "  warn(msg)\n",
            "/usr/local/lib/python3.11/dist-packages/openpyxl/worksheet/_reader.py:329: UserWarning: Conditional Formatting extension is not supported and will be removed\n",
            "  warn(msg)\n"
          ]
        }
      ]
    }
  ]
}